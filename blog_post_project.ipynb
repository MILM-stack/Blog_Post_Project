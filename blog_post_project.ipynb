{
 "cells": [
  {
   "cell_type": "markdown",
   "id": "bf4c1f79-0c81-4961-afcb-50ae3886a2d9",
   "metadata": {},
   "source": [
    "<h1 id='part1'>Section 1: Business Understanding</h1>\n",
    "This Airbnb datasets describe the listing and calendar acitivities of the homestays in Seattle. \n",
    "\n",
    "<h2 id='part1'>Project Motivation</h2>\n",
    "\n",
    "For this project, I wanted to have a better understanding on the availability of the accommodations in Seattle from January 2016 until January 2017.\n",
    "Therefore, my goal was to answer the following questions: \n",
    "\n",
    "**Question 1:** How does the Airbnb availability look by month?\n",
    "\n",
    "**Question 2:** How does the Airbnb pricing distribution look by month? \n",
    "\n",
    "**Question 3:** What are the top 5 neighborhoods based on availability?\n",
    "\n",
    "**Question 4:** Can we predict the future availability in the top 5 neighborhoods?"
   ]
  },
  {
   "cell_type": "markdown",
   "id": "f74f82a7-b29e-4019-917e-8bd6e5297234",
   "metadata": {},
   "source": [
    "<h1 id='part1'>Section 2: Data Understanding</h1>\n",
    "\n",
    "<h2 id='part1'>Gatehring Initial Data</h2>\n",
    "\n",
    "Let´s now import the necessary dictionaries and the Seattle Airbnb Dataset"
   ]
  },
  {
   "cell_type": "code",
   "execution_count": 1,
   "id": "13d04578-5583-4ebd-9ffc-ee78b74a52a1",
   "metadata": {},
   "outputs": [],
   "source": [
    "#Import necessary libraries\n",
    "import numpy as np\n",
    "import pandas as pd\n",
    "import matplotlib.pyplot as plt\n",
    "import seaborn as sns\n",
    "from sklearn.linear_model import LinearRegression\n",
    "from sklearn.linear_model import LogisticRegression\n",
    "from sklearn.preprocessing import StandardScaler\n",
    "from sklearn.ensemble import RandomForestClassifier\n",
    "from sklearn.metrics import classification_report\n",
    "from sklearn.model_selection import train_test_split\n",
    "from sklearn.metrics import r2_score, mean_squared_error"
   ]
  },
  {
   "cell_type": "code",
   "execution_count": 2,
   "id": "3d1e8535-f065-4322-b7ce-196553dc7bf8",
   "metadata": {},
   "outputs": [
    {
     "data": {
      "text/html": [
       "<div>\n",
       "<style scoped>\n",
       "    .dataframe tbody tr th:only-of-type {\n",
       "        vertical-align: middle;\n",
       "    }\n",
       "\n",
       "    .dataframe tbody tr th {\n",
       "        vertical-align: top;\n",
       "    }\n",
       "\n",
       "    .dataframe thead th {\n",
       "        text-align: right;\n",
       "    }\n",
       "</style>\n",
       "<table border=\"1\" class=\"dataframe\">\n",
       "  <thead>\n",
       "    <tr style=\"text-align: right;\">\n",
       "      <th></th>\n",
       "      <th>listing_id</th>\n",
       "      <th>date</th>\n",
       "      <th>available</th>\n",
       "      <th>price</th>\n",
       "    </tr>\n",
       "  </thead>\n",
       "  <tbody>\n",
       "    <tr>\n",
       "      <th>0</th>\n",
       "      <td>241032</td>\n",
       "      <td>2016-01-04</td>\n",
       "      <td>t</td>\n",
       "      <td>$85.00</td>\n",
       "    </tr>\n",
       "    <tr>\n",
       "      <th>1</th>\n",
       "      <td>241032</td>\n",
       "      <td>2016-01-05</td>\n",
       "      <td>t</td>\n",
       "      <td>$85.00</td>\n",
       "    </tr>\n",
       "    <tr>\n",
       "      <th>2</th>\n",
       "      <td>241032</td>\n",
       "      <td>2016-01-06</td>\n",
       "      <td>f</td>\n",
       "      <td>NaN</td>\n",
       "    </tr>\n",
       "    <tr>\n",
       "      <th>3</th>\n",
       "      <td>241032</td>\n",
       "      <td>2016-01-07</td>\n",
       "      <td>f</td>\n",
       "      <td>NaN</td>\n",
       "    </tr>\n",
       "    <tr>\n",
       "      <th>4</th>\n",
       "      <td>241032</td>\n",
       "      <td>2016-01-08</td>\n",
       "      <td>f</td>\n",
       "      <td>NaN</td>\n",
       "    </tr>\n",
       "  </tbody>\n",
       "</table>\n",
       "</div>"
      ],
      "text/plain": [
       "   listing_id        date available   price\n",
       "0      241032  2016-01-04         t  $85.00\n",
       "1      241032  2016-01-05         t  $85.00\n",
       "2      241032  2016-01-06         f     NaN\n",
       "3      241032  2016-01-07         f     NaN\n",
       "4      241032  2016-01-08         f     NaN"
      ]
     },
     "execution_count": 2,
     "metadata": {},
     "output_type": "execute_result"
    }
   ],
   "source": [
    "#Import the Calendar Seattle Airbnb Dataset\n",
    "df_calendar = pd.read_csv('calendar.csv')\n",
    "df_calendar.head()"
   ]
  },
  {
   "cell_type": "code",
   "execution_count": 3,
   "id": "87decde6-a0c3-4dfc-b02b-fc16f76105d9",
   "metadata": {},
   "outputs": [
    {
     "data": {
      "text/html": [
       "<div>\n",
       "<style scoped>\n",
       "    .dataframe tbody tr th:only-of-type {\n",
       "        vertical-align: middle;\n",
       "    }\n",
       "\n",
       "    .dataframe tbody tr th {\n",
       "        vertical-align: top;\n",
       "    }\n",
       "\n",
       "    .dataframe thead th {\n",
       "        text-align: right;\n",
       "    }\n",
       "</style>\n",
       "<table border=\"1\" class=\"dataframe\">\n",
       "  <thead>\n",
       "    <tr style=\"text-align: right;\">\n",
       "      <th></th>\n",
       "      <th>id</th>\n",
       "      <th>listing_url</th>\n",
       "      <th>scrape_id</th>\n",
       "      <th>last_scraped</th>\n",
       "      <th>name</th>\n",
       "      <th>summary</th>\n",
       "      <th>space</th>\n",
       "      <th>description</th>\n",
       "      <th>experiences_offered</th>\n",
       "      <th>neighborhood_overview</th>\n",
       "      <th>...</th>\n",
       "      <th>review_scores_value</th>\n",
       "      <th>requires_license</th>\n",
       "      <th>license</th>\n",
       "      <th>jurisdiction_names</th>\n",
       "      <th>instant_bookable</th>\n",
       "      <th>cancellation_policy</th>\n",
       "      <th>require_guest_profile_picture</th>\n",
       "      <th>require_guest_phone_verification</th>\n",
       "      <th>calculated_host_listings_count</th>\n",
       "      <th>reviews_per_month</th>\n",
       "    </tr>\n",
       "  </thead>\n",
       "  <tbody>\n",
       "    <tr>\n",
       "      <th>0</th>\n",
       "      <td>241032</td>\n",
       "      <td>https://www.airbnb.com/rooms/241032</td>\n",
       "      <td>20160104002432</td>\n",
       "      <td>2016-01-04</td>\n",
       "      <td>Stylish Queen Anne Apartment</td>\n",
       "      <td>NaN</td>\n",
       "      <td>Make your self at home in this charming one-be...</td>\n",
       "      <td>Make your self at home in this charming one-be...</td>\n",
       "      <td>none</td>\n",
       "      <td>NaN</td>\n",
       "      <td>...</td>\n",
       "      <td>10.0</td>\n",
       "      <td>f</td>\n",
       "      <td>NaN</td>\n",
       "      <td>WASHINGTON</td>\n",
       "      <td>f</td>\n",
       "      <td>moderate</td>\n",
       "      <td>f</td>\n",
       "      <td>f</td>\n",
       "      <td>2</td>\n",
       "      <td>4.07</td>\n",
       "    </tr>\n",
       "    <tr>\n",
       "      <th>1</th>\n",
       "      <td>953595</td>\n",
       "      <td>https://www.airbnb.com/rooms/953595</td>\n",
       "      <td>20160104002432</td>\n",
       "      <td>2016-01-04</td>\n",
       "      <td>Bright &amp; Airy Queen Anne Apartment</td>\n",
       "      <td>Chemically sensitive? We've removed the irrita...</td>\n",
       "      <td>Beautiful, hypoallergenic apartment in an extr...</td>\n",
       "      <td>Chemically sensitive? We've removed the irrita...</td>\n",
       "      <td>none</td>\n",
       "      <td>Queen Anne is a wonderful, truly functional vi...</td>\n",
       "      <td>...</td>\n",
       "      <td>10.0</td>\n",
       "      <td>f</td>\n",
       "      <td>NaN</td>\n",
       "      <td>WASHINGTON</td>\n",
       "      <td>f</td>\n",
       "      <td>strict</td>\n",
       "      <td>t</td>\n",
       "      <td>t</td>\n",
       "      <td>6</td>\n",
       "      <td>1.48</td>\n",
       "    </tr>\n",
       "    <tr>\n",
       "      <th>2</th>\n",
       "      <td>3308979</td>\n",
       "      <td>https://www.airbnb.com/rooms/3308979</td>\n",
       "      <td>20160104002432</td>\n",
       "      <td>2016-01-04</td>\n",
       "      <td>New Modern House-Amazing water view</td>\n",
       "      <td>New modern house built in 2013.  Spectacular s...</td>\n",
       "      <td>Our house is modern, light and fresh with a wa...</td>\n",
       "      <td>New modern house built in 2013.  Spectacular s...</td>\n",
       "      <td>none</td>\n",
       "      <td>Upper Queen Anne is a charming neighborhood fu...</td>\n",
       "      <td>...</td>\n",
       "      <td>10.0</td>\n",
       "      <td>f</td>\n",
       "      <td>NaN</td>\n",
       "      <td>WASHINGTON</td>\n",
       "      <td>f</td>\n",
       "      <td>strict</td>\n",
       "      <td>f</td>\n",
       "      <td>f</td>\n",
       "      <td>2</td>\n",
       "      <td>1.15</td>\n",
       "    </tr>\n",
       "    <tr>\n",
       "      <th>3</th>\n",
       "      <td>7421966</td>\n",
       "      <td>https://www.airbnb.com/rooms/7421966</td>\n",
       "      <td>20160104002432</td>\n",
       "      <td>2016-01-04</td>\n",
       "      <td>Queen Anne Chateau</td>\n",
       "      <td>A charming apartment that sits atop Queen Anne...</td>\n",
       "      <td>NaN</td>\n",
       "      <td>A charming apartment that sits atop Queen Anne...</td>\n",
       "      <td>none</td>\n",
       "      <td>NaN</td>\n",
       "      <td>...</td>\n",
       "      <td>NaN</td>\n",
       "      <td>f</td>\n",
       "      <td>NaN</td>\n",
       "      <td>WASHINGTON</td>\n",
       "      <td>f</td>\n",
       "      <td>flexible</td>\n",
       "      <td>f</td>\n",
       "      <td>f</td>\n",
       "      <td>1</td>\n",
       "      <td>NaN</td>\n",
       "    </tr>\n",
       "    <tr>\n",
       "      <th>4</th>\n",
       "      <td>278830</td>\n",
       "      <td>https://www.airbnb.com/rooms/278830</td>\n",
       "      <td>20160104002432</td>\n",
       "      <td>2016-01-04</td>\n",
       "      <td>Charming craftsman 3 bdm house</td>\n",
       "      <td>Cozy family craftman house in beautiful neighb...</td>\n",
       "      <td>Cozy family craftman house in beautiful neighb...</td>\n",
       "      <td>Cozy family craftman house in beautiful neighb...</td>\n",
       "      <td>none</td>\n",
       "      <td>We are in the beautiful neighborhood of Queen ...</td>\n",
       "      <td>...</td>\n",
       "      <td>9.0</td>\n",
       "      <td>f</td>\n",
       "      <td>NaN</td>\n",
       "      <td>WASHINGTON</td>\n",
       "      <td>f</td>\n",
       "      <td>strict</td>\n",
       "      <td>f</td>\n",
       "      <td>f</td>\n",
       "      <td>1</td>\n",
       "      <td>0.89</td>\n",
       "    </tr>\n",
       "  </tbody>\n",
       "</table>\n",
       "<p>5 rows × 92 columns</p>\n",
       "</div>"
      ],
      "text/plain": [
       "        id                           listing_url       scrape_id last_scraped  \\\n",
       "0   241032   https://www.airbnb.com/rooms/241032  20160104002432   2016-01-04   \n",
       "1   953595   https://www.airbnb.com/rooms/953595  20160104002432   2016-01-04   \n",
       "2  3308979  https://www.airbnb.com/rooms/3308979  20160104002432   2016-01-04   \n",
       "3  7421966  https://www.airbnb.com/rooms/7421966  20160104002432   2016-01-04   \n",
       "4   278830   https://www.airbnb.com/rooms/278830  20160104002432   2016-01-04   \n",
       "\n",
       "                                  name  \\\n",
       "0         Stylish Queen Anne Apartment   \n",
       "1   Bright & Airy Queen Anne Apartment   \n",
       "2  New Modern House-Amazing water view   \n",
       "3                   Queen Anne Chateau   \n",
       "4       Charming craftsman 3 bdm house   \n",
       "\n",
       "                                             summary  \\\n",
       "0                                                NaN   \n",
       "1  Chemically sensitive? We've removed the irrita...   \n",
       "2  New modern house built in 2013.  Spectacular s...   \n",
       "3  A charming apartment that sits atop Queen Anne...   \n",
       "4  Cozy family craftman house in beautiful neighb...   \n",
       "\n",
       "                                               space  \\\n",
       "0  Make your self at home in this charming one-be...   \n",
       "1  Beautiful, hypoallergenic apartment in an extr...   \n",
       "2  Our house is modern, light and fresh with a wa...   \n",
       "3                                                NaN   \n",
       "4  Cozy family craftman house in beautiful neighb...   \n",
       "\n",
       "                                         description experiences_offered  \\\n",
       "0  Make your self at home in this charming one-be...                none   \n",
       "1  Chemically sensitive? We've removed the irrita...                none   \n",
       "2  New modern house built in 2013.  Spectacular s...                none   \n",
       "3  A charming apartment that sits atop Queen Anne...                none   \n",
       "4  Cozy family craftman house in beautiful neighb...                none   \n",
       "\n",
       "                               neighborhood_overview  ... review_scores_value  \\\n",
       "0                                                NaN  ...                10.0   \n",
       "1  Queen Anne is a wonderful, truly functional vi...  ...                10.0   \n",
       "2  Upper Queen Anne is a charming neighborhood fu...  ...                10.0   \n",
       "3                                                NaN  ...                 NaN   \n",
       "4  We are in the beautiful neighborhood of Queen ...  ...                 9.0   \n",
       "\n",
       "  requires_license license jurisdiction_names instant_bookable  \\\n",
       "0                f     NaN         WASHINGTON                f   \n",
       "1                f     NaN         WASHINGTON                f   \n",
       "2                f     NaN         WASHINGTON                f   \n",
       "3                f     NaN         WASHINGTON                f   \n",
       "4                f     NaN         WASHINGTON                f   \n",
       "\n",
       "  cancellation_policy  require_guest_profile_picture  \\\n",
       "0            moderate                              f   \n",
       "1              strict                              t   \n",
       "2              strict                              f   \n",
       "3            flexible                              f   \n",
       "4              strict                              f   \n",
       "\n",
       "  require_guest_phone_verification calculated_host_listings_count  \\\n",
       "0                                f                              2   \n",
       "1                                t                              6   \n",
       "2                                f                              2   \n",
       "3                                f                              1   \n",
       "4                                f                              1   \n",
       "\n",
       "  reviews_per_month  \n",
       "0              4.07  \n",
       "1              1.48  \n",
       "2              1.15  \n",
       "3               NaN  \n",
       "4              0.89  \n",
       "\n",
       "[5 rows x 92 columns]"
      ]
     },
     "execution_count": 3,
     "metadata": {},
     "output_type": "execute_result"
    }
   ],
   "source": [
    "#Import the Listing Seattle Airbnb Dataset\n",
    "df_listings = pd.read_csv('listings.csv')\n",
    "df_listings.head()"
   ]
  },
  {
   "cell_type": "code",
   "execution_count": 4,
   "id": "c827a75a-2af4-408e-a7f5-9118dd21d6af",
   "metadata": {},
   "outputs": [
    {
     "name": "stdout",
     "output_type": "stream",
     "text": [
      "<class 'pandas.core.frame.DataFrame'>\n",
      "RangeIndex: 1393570 entries, 0 to 1393569\n",
      "Data columns (total 4 columns):\n",
      " #   Column      Non-Null Count    Dtype \n",
      "---  ------      --------------    ----- \n",
      " 0   listing_id  1393570 non-null  int64 \n",
      " 1   date        1393570 non-null  object\n",
      " 2   available   1393570 non-null  object\n",
      " 3   price       934542 non-null   object\n",
      "dtypes: int64(1), object(3)\n",
      "memory usage: 42.5+ MB\n"
     ]
    }
   ],
   "source": [
    "#Let´s shortly explore both datasets:\n",
    "df_calendar.info()"
   ]
  },
  {
   "cell_type": "code",
   "execution_count": 5,
   "id": "6a9651bf-19e1-4d12-927a-23daacf67178",
   "metadata": {},
   "outputs": [
    {
     "name": "stdout",
     "output_type": "stream",
     "text": [
      "<class 'pandas.core.frame.DataFrame'>\n",
      "RangeIndex: 3818 entries, 0 to 3817\n",
      "Data columns (total 92 columns):\n",
      " #   Column                            Non-Null Count  Dtype  \n",
      "---  ------                            --------------  -----  \n",
      " 0   id                                3818 non-null   int64  \n",
      " 1   listing_url                       3818 non-null   object \n",
      " 2   scrape_id                         3818 non-null   int64  \n",
      " 3   last_scraped                      3818 non-null   object \n",
      " 4   name                              3818 non-null   object \n",
      " 5   summary                           3641 non-null   object \n",
      " 6   space                             3249 non-null   object \n",
      " 7   description                       3818 non-null   object \n",
      " 8   experiences_offered               3818 non-null   object \n",
      " 9   neighborhood_overview             2786 non-null   object \n",
      " 10  notes                             2212 non-null   object \n",
      " 11  transit                           2884 non-null   object \n",
      " 12  thumbnail_url                     3498 non-null   object \n",
      " 13  medium_url                        3498 non-null   object \n",
      " 14  picture_url                       3818 non-null   object \n",
      " 15  xl_picture_url                    3498 non-null   object \n",
      " 16  host_id                           3818 non-null   int64  \n",
      " 17  host_url                          3818 non-null   object \n",
      " 18  host_name                         3816 non-null   object \n",
      " 19  host_since                        3816 non-null   object \n",
      " 20  host_location                     3810 non-null   object \n",
      " 21  host_about                        2959 non-null   object \n",
      " 22  host_response_time                3295 non-null   object \n",
      " 23  host_response_rate                3295 non-null   object \n",
      " 24  host_acceptance_rate              3045 non-null   object \n",
      " 25  host_is_superhost                 3816 non-null   object \n",
      " 26  host_thumbnail_url                3816 non-null   object \n",
      " 27  host_picture_url                  3816 non-null   object \n",
      " 28  host_neighbourhood                3518 non-null   object \n",
      " 29  host_listings_count               3816 non-null   float64\n",
      " 30  host_total_listings_count         3816 non-null   float64\n",
      " 31  host_verifications                3816 non-null   object \n",
      " 32  host_has_profile_pic              3816 non-null   object \n",
      " 33  host_identity_verified            3816 non-null   object \n",
      " 34  street                            3818 non-null   object \n",
      " 35  neighbourhood                     3402 non-null   object \n",
      " 36  neighbourhood_cleansed            3818 non-null   object \n",
      " 37  neighbourhood_group_cleansed      3818 non-null   object \n",
      " 38  city                              3818 non-null   object \n",
      " 39  state                             3818 non-null   object \n",
      " 40  zipcode                           3811 non-null   object \n",
      " 41  market                            3818 non-null   object \n",
      " 42  smart_location                    3818 non-null   object \n",
      " 43  country_code                      3818 non-null   object \n",
      " 44  country                           3818 non-null   object \n",
      " 45  latitude                          3818 non-null   float64\n",
      " 46  longitude                         3818 non-null   float64\n",
      " 47  is_location_exact                 3818 non-null   object \n",
      " 48  property_type                     3817 non-null   object \n",
      " 49  room_type                         3818 non-null   object \n",
      " 50  accommodates                      3818 non-null   int64  \n",
      " 51  bathrooms                         3802 non-null   float64\n",
      " 52  bedrooms                          3812 non-null   float64\n",
      " 53  beds                              3817 non-null   float64\n",
      " 54  bed_type                          3818 non-null   object \n",
      " 55  amenities                         3818 non-null   object \n",
      " 56  square_feet                       97 non-null     float64\n",
      " 57  price                             3818 non-null   object \n",
      " 58  weekly_price                      2009 non-null   object \n",
      " 59  monthly_price                     1517 non-null   object \n",
      " 60  security_deposit                  1866 non-null   object \n",
      " 61  cleaning_fee                      2788 non-null   object \n",
      " 62  guests_included                   3818 non-null   int64  \n",
      " 63  extra_people                      3818 non-null   object \n",
      " 64  minimum_nights                    3818 non-null   int64  \n",
      " 65  maximum_nights                    3818 non-null   int64  \n",
      " 66  calendar_updated                  3818 non-null   object \n",
      " 67  has_availability                  3818 non-null   object \n",
      " 68  availability_30                   3818 non-null   int64  \n",
      " 69  availability_60                   3818 non-null   int64  \n",
      " 70  availability_90                   3818 non-null   int64  \n",
      " 71  availability_365                  3818 non-null   int64  \n",
      " 72  calendar_last_scraped             3818 non-null   object \n",
      " 73  number_of_reviews                 3818 non-null   int64  \n",
      " 74  first_review                      3191 non-null   object \n",
      " 75  last_review                       3191 non-null   object \n",
      " 76  review_scores_rating              3171 non-null   float64\n",
      " 77  review_scores_accuracy            3160 non-null   float64\n",
      " 78  review_scores_cleanliness         3165 non-null   float64\n",
      " 79  review_scores_checkin             3160 non-null   float64\n",
      " 80  review_scores_communication       3167 non-null   float64\n",
      " 81  review_scores_location            3163 non-null   float64\n",
      " 82  review_scores_value               3162 non-null   float64\n",
      " 83  requires_license                  3818 non-null   object \n",
      " 84  license                           0 non-null      float64\n",
      " 85  jurisdiction_names                3818 non-null   object \n",
      " 86  instant_bookable                  3818 non-null   object \n",
      " 87  cancellation_policy               3818 non-null   object \n",
      " 88  require_guest_profile_picture     3818 non-null   object \n",
      " 89  require_guest_phone_verification  3818 non-null   object \n",
      " 90  calculated_host_listings_count    3818 non-null   int64  \n",
      " 91  reviews_per_month                 3191 non-null   float64\n",
      "dtypes: float64(17), int64(13), object(62)\n",
      "memory usage: 2.7+ MB\n"
     ]
    }
   ],
   "source": [
    "#2nd get information on the dataframe: \n",
    "df_listings.info()"
   ]
  },
  {
   "cell_type": "code",
   "execution_count": 6,
   "id": "d37b6c18-e82c-4749-a77e-2f4c44f8cdfe",
   "metadata": {},
   "outputs": [
    {
     "data": {
      "text/html": [
       "<div>\n",
       "<style scoped>\n",
       "    .dataframe tbody tr th:only-of-type {\n",
       "        vertical-align: middle;\n",
       "    }\n",
       "\n",
       "    .dataframe tbody tr th {\n",
       "        vertical-align: top;\n",
       "    }\n",
       "\n",
       "    .dataframe thead th {\n",
       "        text-align: right;\n",
       "    }\n",
       "</style>\n",
       "<table border=\"1\" class=\"dataframe\">\n",
       "  <thead>\n",
       "    <tr style=\"text-align: right;\">\n",
       "      <th></th>\n",
       "      <th>listing_id</th>\n",
       "      <th>date</th>\n",
       "      <th>available</th>\n",
       "      <th>price</th>\n",
       "      <th>neighbourhood_cleansed</th>\n",
       "    </tr>\n",
       "  </thead>\n",
       "  <tbody>\n",
       "    <tr>\n",
       "      <th>0</th>\n",
       "      <td>241032</td>\n",
       "      <td>2016-01-04</td>\n",
       "      <td>t</td>\n",
       "      <td>$85.00</td>\n",
       "      <td>West Queen Anne</td>\n",
       "    </tr>\n",
       "    <tr>\n",
       "      <th>1</th>\n",
       "      <td>241032</td>\n",
       "      <td>2016-01-05</td>\n",
       "      <td>t</td>\n",
       "      <td>$85.00</td>\n",
       "      <td>West Queen Anne</td>\n",
       "    </tr>\n",
       "    <tr>\n",
       "      <th>2</th>\n",
       "      <td>241032</td>\n",
       "      <td>2016-01-06</td>\n",
       "      <td>f</td>\n",
       "      <td>NaN</td>\n",
       "      <td>West Queen Anne</td>\n",
       "    </tr>\n",
       "    <tr>\n",
       "      <th>3</th>\n",
       "      <td>241032</td>\n",
       "      <td>2016-01-07</td>\n",
       "      <td>f</td>\n",
       "      <td>NaN</td>\n",
       "      <td>West Queen Anne</td>\n",
       "    </tr>\n",
       "    <tr>\n",
       "      <th>4</th>\n",
       "      <td>241032</td>\n",
       "      <td>2016-01-08</td>\n",
       "      <td>f</td>\n",
       "      <td>NaN</td>\n",
       "      <td>West Queen Anne</td>\n",
       "    </tr>\n",
       "  </tbody>\n",
       "</table>\n",
       "</div>"
      ],
      "text/plain": [
       "   listing_id        date available   price neighbourhood_cleansed\n",
       "0      241032  2016-01-04         t  $85.00        West Queen Anne\n",
       "1      241032  2016-01-05         t  $85.00        West Queen Anne\n",
       "2      241032  2016-01-06         f     NaN        West Queen Anne\n",
       "3      241032  2016-01-07         f     NaN        West Queen Anne\n",
       "4      241032  2016-01-08         f     NaN        West Queen Anne"
      ]
     },
     "execution_count": 6,
     "metadata": {},
     "output_type": "execute_result"
    }
   ],
   "source": [
    "#In order to have a dataset that concentrates on the questions we want to answer, we will now merge both datasets.\n",
    "#By doing this, we will create a subset dataframe, that we will use to work from now on: \n",
    "\n",
    "merged_df = pd.merge(df_calendar[['listing_id', 'date', 'available', 'price']], \n",
    "                     df_listings[['id', 'neighbourhood_cleansed']], \n",
    "                     left_on='listing_id', right_on='id', \n",
    "                     how = 'inner')\n",
    "\n",
    "#Drop the second id identifier from df_listings, as we do not need it anymore: \n",
    "merged_df = merged_df.drop(columns=['id'])\n",
    "\n",
    "merged_df.head()"
   ]
  },
  {
   "cell_type": "markdown",
   "id": "735c301f-239b-477f-8155-91b75553fe9a",
   "metadata": {},
   "source": [
    "<h2 id='part1'>Describe & Explore the Data</h2>\n",
    "\n",
    "During this process, we will look into the properties of the data. \n",
    "This will enable us to understand the steps we need to take in the data cleaning phase. "
   ]
  },
  {
   "cell_type": "code",
   "execution_count": 7,
   "id": "43ec4073-8244-441f-944f-7c988d963cde",
   "metadata": {},
   "outputs": [
    {
     "data": {
      "text/plain": [
       "(1393570, 5)"
      ]
     },
     "execution_count": 7,
     "metadata": {},
     "output_type": "execute_result"
    }
   ],
   "source": [
    "#To do so, we will understand the shape of our dataframe\n",
    "merged_df.shape"
   ]
  },
  {
   "cell_type": "code",
   "execution_count": 8,
   "id": "064ad9cd-39d7-42a2-8fff-b22668152cb5",
   "metadata": {},
   "outputs": [
    {
     "data": {
      "text/plain": [
       "listing_id                 int64\n",
       "date                      object\n",
       "available                 object\n",
       "price                     object\n",
       "neighbourhood_cleansed    object\n",
       "dtype: object"
      ]
     },
     "execution_count": 8,
     "metadata": {},
     "output_type": "execute_result"
    }
   ],
   "source": [
    "#Understand the datatypes each variable represent:\n",
    "merged_df.dtypes"
   ]
  },
  {
   "cell_type": "markdown",
   "id": "7c6900b8-2437-41b1-aa8d-caedb334f8f1",
   "metadata": {},
   "source": [
    "Here we already see that we will need to tackle the dtypes of our variables. "
   ]
  },
  {
   "cell_type": "code",
   "execution_count": 9,
   "id": "478df900-bdb9-4f5b-883e-355ef6ccdd0f",
   "metadata": {},
   "outputs": [
    {
     "data": {
      "text/plain": [
       "Index(['listing_id', 'date', 'available', 'price', 'neighbourhood_cleansed'], dtype='object')"
      ]
     },
     "execution_count": 9,
     "metadata": {},
     "output_type": "execute_result"
    }
   ],
   "source": [
    "#Let´s confirm all the necessary columns for our analysis are available: \n",
    "merged_df.columns"
   ]
  },
  {
   "cell_type": "code",
   "execution_count": 10,
   "id": "6b10dd0c-e100-4405-9412-6072313dce68",
   "metadata": {},
   "outputs": [
    {
     "data": {
      "text/plain": [
       "{'available', 'date', 'listing_id', 'neighbourhood_cleansed'}"
      ]
     },
     "execution_count": 10,
     "metadata": {},
     "output_type": "execute_result"
    }
   ],
   "source": [
    "#Provide a set of columns with 0 missing values.\n",
    "no_nulls = set(merged_df.columns[merged_df.isnull().mean()==0])\n",
    "no_nulls"
   ]
  },
  {
   "cell_type": "code",
   "execution_count": 11,
   "id": "9efbb830-209b-457a-b5e8-ba1473e61d43",
   "metadata": {},
   "outputs": [
    {
     "data": {
      "text/plain": [
       "Index(['price'], dtype='object')"
      ]
     },
     "execution_count": 11,
     "metadata": {},
     "output_type": "execute_result"
    }
   ],
   "source": [
    "#Provide the columns with missing values.\n",
    "null_cols = merged_df.columns[merged_df.isnull().any()]\n",
    "null_cols"
   ]
  },
  {
   "cell_type": "markdown",
   "id": "e085c4f1-8795-4961-bb7e-57f21dde039a",
   "metadata": {},
   "source": [
    "In this step of our data exploration, we can see that we will need to handle the missing values for the variable 'price'."
   ]
  },
  {
   "cell_type": "markdown",
   "id": "215be966-43c9-4e41-8c7a-2c50dc054f31",
   "metadata": {},
   "source": [
    "<h1 id='part1'>Section 3: Data Preparation</h1>\n",
    "\n",
    "In the previous section, we identified some cleaning issues that we will now work through, in order to answer our questions.\n",
    "\n",
    "**1. Data Type Cleaning:**"
   ]
  },
  {
   "cell_type": "code",
   "execution_count": 12,
   "id": "256922da-7d9c-47c3-b53d-1c075acc56a4",
   "metadata": {},
   "outputs": [
    {
     "name": "stdout",
     "output_type": "stream",
     "text": [
      "<class 'pandas.core.series.Series'>\n",
      "RangeIndex: 1393570 entries, 0 to 1393569\n",
      "Series name: listing_id\n",
      "Non-Null Count    Dtype \n",
      "--------------    ----- \n",
      "1393570 non-null  object\n",
      "dtypes: object(1)\n",
      "memory usage: 10.6+ MB\n"
     ]
    }
   ],
   "source": [
    "#Clean the dtypes:\n",
    "merged_df['listing_id'] = merged_df['listing_id'].astype('str')\n",
    "merged_df['listing_id'].info()"
   ]
  },
  {
   "cell_type": "code",
   "execution_count": 13,
   "id": "0831995c-9d14-4fb9-867e-4367d378a73c",
   "metadata": {},
   "outputs": [],
   "source": [
    "#Let´s continue with the variable \"date\":\n",
    "merged_df['date'] = pd.to_datetime(merged_df['date'])"
   ]
  },
  {
   "cell_type": "code",
   "execution_count": 14,
   "id": "d535305a-64c1-4f10-bf61-e893f46e3ffd",
   "metadata": {},
   "outputs": [
    {
     "name": "stdout",
     "output_type": "stream",
     "text": [
      "<class 'pandas.core.series.Series'>\n",
      "RangeIndex: 1393570 entries, 0 to 1393569\n",
      "Series name: date\n",
      "Non-Null Count    Dtype         \n",
      "--------------    -----         \n",
      "1393570 non-null  datetime64[ns]\n",
      "dtypes: datetime64[ns](1)\n",
      "memory usage: 10.6 MB\n"
     ]
    }
   ],
   "source": [
    "#Use 'coerce' to handle invalid parsing\n",
    "merged_df['date'] = pd.to_datetime(merged_df['date'], errors='coerce')\n",
    "merged_df['date'].info()"
   ]
  },
  {
   "cell_type": "code",
   "execution_count": 15,
   "id": "f5a1c405-f969-4772-b2bc-7d84d5f6f7e1",
   "metadata": {},
   "outputs": [
    {
     "name": "stdout",
     "output_type": "stream",
     "text": [
      "<class 'pandas.core.series.Series'>\n",
      "RangeIndex: 1393570 entries, 0 to 1393569\n",
      "Series name: available\n",
      "Non-Null Count    Dtype\n",
      "--------------    -----\n",
      "1393570 non-null  bool \n",
      "dtypes: bool(1)\n",
      "memory usage: 1.3 MB\n"
     ]
    }
   ],
   "source": [
    "#The variable 'available' appears to be an object, when we would need it to be a boolean dtype:\n",
    "merged_df['available'] = merged_df['available'].map({'t': True, 'f': False})\n",
    "merged_df['available'].info()"
   ]
  },
  {
   "cell_type": "code",
   "execution_count": 16,
   "id": "6fed59dd-c725-435c-bb54-b040c5202f38",
   "metadata": {},
   "outputs": [],
   "source": [
    "#The varialbe 'price' is an object, when it should be a float. \n",
    "#As I saw when checking on the head of the df, I saw the symbol $.\n",
    "#1st I would need to replace it and then change the dtype:\n",
    "merged_df['price'] = merged_df['price'].str.replace('$', '', regex=False)\n",
    "merged_df['price'] = merged_df['price'].str.replace(',', '', regex=False)\n",
    "\n",
    "merged_df['price'] = merged_df['price'].astype('float')"
   ]
  },
  {
   "cell_type": "code",
   "execution_count": 17,
   "id": "f05d06ec-4429-48e5-97a0-892d3a0f5194",
   "metadata": {},
   "outputs": [
    {
     "name": "stdout",
     "output_type": "stream",
     "text": [
      "<class 'pandas.core.series.Series'>\n",
      "RangeIndex: 1393570 entries, 0 to 1393569\n",
      "Series name: price\n",
      "Non-Null Count   Dtype  \n",
      "--------------   -----  \n",
      "934542 non-null  float64\n",
      "dtypes: float64(1)\n",
      "memory usage: 10.6 MB\n"
     ]
    }
   ],
   "source": [
    "merged_df['price'].info()"
   ]
  },
  {
   "cell_type": "markdown",
   "id": "cf0bcc89-9ae7-41d7-87f1-0f5aa67f607e",
   "metadata": {},
   "source": [
    "**2. Handling Missing Values:**\n",
    "\n",
    "We have seen that every time a property is not available, we do not have a price value for it. \n",
    "\n",
    "This is how we are going to handle the missing values:\n",
    "\n",
    "- We are going to calculate the mean price for each property.\n",
    "- Then, we will impute the missing values using the calculated price. "
   ]
  },
  {
   "cell_type": "code",
   "execution_count": 18,
   "id": "a7b85fa1-dd42-43cd-af35-c31544d04fb8",
   "metadata": {},
   "outputs": [
    {
     "data": {
      "text/plain": [
       "listing_id\n",
       "10000273    182.080925\n",
       "1000883     102.916667\n",
       "10012724     25.000000\n",
       "10015967           NaN\n",
       "10019082    131.696629\n",
       "               ...    \n",
       "9979329     204.260274\n",
       "9994758      86.951220\n",
       "9995551      79.000000\n",
       "9999759     340.983607\n",
       "9999955      55.000000\n",
       "Name: price, Length: 3818, dtype: float64"
      ]
     },
     "execution_count": 18,
     "metadata": {},
     "output_type": "execute_result"
    }
   ],
   "source": [
    "# 1st - calculate the mean price for each property, using the unique identified in listing_id\n",
    "mean_prices = merged_df.groupby('listing_id')['price'].mean()\n",
    "mean_prices"
   ]
  },
  {
   "cell_type": "code",
   "execution_count": 19,
   "id": "81d1d321-1b94-4bca-b6d3-4d58dda70953",
   "metadata": {},
   "outputs": [
    {
     "name": "stdout",
     "output_type": "stream",
     "text": [
      "34675\n"
     ]
    }
   ],
   "source": [
    "#2nd - fill missing values in the price column using the mean prices:\n",
    "merged_df['price'] = merged_df['price'].fillna(merged_df['listing_id'].map(mean_prices))\n",
    "print(merged_df['price'].isnull().sum())"
   ]
  },
  {
   "cell_type": "code",
   "execution_count": 20,
   "id": "4915dc86-7cd8-4967-b9f7-7fb72166c378",
   "metadata": {},
   "outputs": [
    {
     "name": "stdout",
     "output_type": "stream",
     "text": [
      "0\n"
     ]
    }
   ],
   "source": [
    "#It seems that some listing_id values might not have corresponding entries in the mean_prices. \n",
    "#Let´s address this by using the globald price mean:\n",
    "global_mean_price = merged_df['price'].mean()\n",
    "merged_df['price'] = merged_df['price'].fillna(global_mean_price)\n",
    "print(merged_df['price'].isnull().sum())"
   ]
  },
  {
   "cell_type": "markdown",
   "id": "26f28b5c-810f-401f-b0d0-e97b461d933a",
   "metadata": {},
   "source": [
    "<h1 id='part1'>Section 5: Evaluation</h1>\n",
    "\n",
    "<h2 id='part1'>Question 1: How does the Airbnb availability look by month?</h2>"
   ]
  },
  {
   "cell_type": "code",
   "execution_count": 21,
   "id": "00e05eb4-6441-43bc-b7f6-61c3812423e4",
   "metadata": {},
   "outputs": [
    {
     "data": {
      "text/plain": [
       "month_year\n",
       "2016-01    0.554133\n",
       "2016-02    0.662208\n",
       "2016-03    0.709187\n",
       "2016-04    0.663847\n",
       "2016-05    0.675670\n",
       "2016-06    0.674384\n",
       "2016-07    0.627097\n",
       "2016-08    0.645051\n",
       "2016-09    0.674402\n",
       "2016-10    0.696514\n",
       "2016-11    0.713986\n",
       "2016-12    0.735573\n",
       "2017-01    0.746202\n",
       "Freq: M, Name: available, dtype: float64"
      ]
     },
     "execution_count": 21,
     "metadata": {},
     "output_type": "execute_result"
    }
   ],
   "source": [
    "#In order to answer this question, we will need to follow this steps: \n",
    "\n",
    "#1st - Create a new variable extrancting the month_year:\n",
    "merged_df['month_year'] = merged_df['date'].dt.to_period('M')\n",
    "\n",
    "#2nd - Groupby the month_year:\n",
    "availability_by_month = merged_df.groupby('month_year')['available'].mean()\n",
    "availability_by_month"
   ]
  },
  {
   "cell_type": "code",
   "execution_count": 22,
   "id": "ec9274f8-3a52-4bcd-b707-a3f4cc979326",
   "metadata": {},
   "outputs": [
    {
     "data": {
      "image/png": "[encoded data removed]",
      "text/plain": [
       "<Figure size 640x480 with 1 Axes>"
      ]
     },
     "metadata": {},
     "output_type": "display_data"
    }
   ],
   "source": [
    "#Visualization of the property availability from Jan 2016 - Jan 2017:\n",
    "availability_by_month.plot(title='Montly Availability Distribution');"
   ]
  },
  {
   "cell_type": "markdown",
   "id": "227a9da2-76ef-45eb-b57a-33351a72ce02",
   "metadata": {},
   "source": [
    "<h3 id='part1'>Monthly Availability Distribution:</h3>\n",
    "\n",
    "We can see that during this period, there are two availability peaks: \n",
    "- In March 2016 the availability was slightly over 70%\n",
    "- The next peak starts in November 2016 (71%) until January 2017 (74%)\n",
    "\n",
    "The lowest availability can be registered in the following months: \n",
    "- January 2016 - 55%\n",
    "- July 2016 - 62%\n",
    "\n",
    "I was personally expecting to see a seasonal availability trend: lower availability during the Christmas and sommer months. \n",
    "\n",
    "However this is not the case. So it would be now interesting to look if the number of properties increased since the beginning of 2016."
   ]
  },
  {
   "cell_type": "code",
   "execution_count": 23,
   "id": "d141843b-e06e-44a5-898f-793d614b7167",
   "metadata": {},
   "outputs": [
    {
     "data": {
      "text/plain": [
       "month_year\n",
       "2016-01    106904\n",
       "2016-02    110722\n",
       "2016-03    118358\n",
       "2016-04    114540\n",
       "2016-05    118358\n",
       "2016-06    114540\n",
       "2016-07    118358\n",
       "2016-08    118358\n",
       "2016-09    114540\n",
       "2016-10    118358\n",
       "2016-11    114540\n",
       "2016-12    118358\n",
       "2017-01      7636\n",
       "Freq: M, Name: listing_id, dtype: int64"
      ]
     },
     "execution_count": 23,
     "metadata": {},
     "output_type": "execute_result"
    }
   ],
   "source": [
    "# Count the number of property entries per month \n",
    "properties_month= merged_df.groupby('month_year')['listing_id'].count()\n",
    "properties_month"
   ]
  },
  {
   "cell_type": "code",
   "execution_count": 24,
   "id": "a1b8f9c8-6b1c-49d0-8b59-bbd3d3ee2c49",
   "metadata": {},
   "outputs": [
    {
     "data": {
      "image/png": "[encoded data removed]",
      "text/plain": [
       "<Figure size 640x480 with 1 Axes>"
      ]
     },
     "metadata": {},
     "output_type": "display_data"
    }
   ],
   "source": [
    "properties_month.plot(title='Properties per Month');"
   ]
  },
  {
   "cell_type": "markdown",
   "id": "94c6f87a-5970-4a28-b934-f8f335b6e7eb",
   "metadata": {},
   "source": [
    "<h3 id='part1'>Monthtly Availability Distribution based of count of listing_id per month:</h3>\n",
    "\n",
    "It is interesting to see that the January 2017 data seems not to be complete.\n",
    "Therefore, we will drop this month for a better analysis of our data and be able to answer better our future questions. "
   ]
  },
  {
   "cell_type": "code",
   "execution_count": 25,
   "id": "23b24370-e4ba-4db9-bf9a-92387fdf723a",
   "metadata": {},
   "outputs": [],
   "source": [
    "#Drop Jan 2017 data\n",
    "merged_df = merged_df[merged_df['month_year'] != '2017-01']\n",
    "properties_month_2= merged_df.groupby('month_year')['listing_id'].count()\n",
    "availability_by_month_2 = merged_df.groupby('month_year')['available'].mean()"
   ]
  },
  {
   "cell_type": "code",
   "execution_count": 26,
   "id": "2c5c7f86-60b5-400a-aedd-2341d6674ef0",
   "metadata": {},
   "outputs": [
    {
     "name": "stderr",
     "output_type": "stream",
     "text": [
      "C:\\Users\\MILM004\\AppData\\Local\\Temp\\ipykernel_23372\\3868873735.py:12: UserWarning: set_ticklabels() should only be used with a fixed number of ticks, i.e. after set_ticks() or using a FixedLocator.\n",
      "  ax1.set_xticklabels(x_labels, rotation=45)\n"
     ]
    },
    {
     "data": {
      "image/png": "[encoded data removed]",
      "text/plain": [
       "<Figure size 1000x600 with 2 Axes>"
      ]
     },
     "metadata": {},
     "output_type": "display_data"
    }
   ],
   "source": [
    "# Convert the index to strings for plotting\n",
    "x_labels = properties_month_2.index.strftime('%Y-%m')\n",
    "\n",
    "# Create figure and axis\n",
    "fig, ax1 = plt.subplots(figsize=(10, 6))\n",
    "\n",
    "# Manually plot the bar chart\n",
    "ax1.bar(x_labels, properties_month_2.values, color='b', width=0.4, label='Properties')\n",
    "ax1.set_ylabel('Count of Properties', color='b')\n",
    "ax1.tick_params(axis='y', labelcolor='b')\n",
    "ax1.set_xlabel('Month-Year')\n",
    "ax1.set_xticklabels(x_labels, rotation=45)\n",
    "\n",
    "# Plot the line chart for availability rates\n",
    "ax2 = ax1.twinx()\n",
    "ax2.plot(x_labels, availability_by_month_2.values, color='r', marker='o', linewidth=2, label='Availability Rate')\n",
    "ax2.set_ylabel('Availability Rate', color='r')\n",
    "ax2.tick_params(axis='y', labelcolor='r')\n",
    "\n",
    "# Add a title and legends\n",
    "ax1.set_title('Properties and Availability by Month')\n",
    "lines_1, labels_1 = ax1.get_legend_handles_labels()\n",
    "lines_2, labels_2 = ax2.get_legend_handles_labels()\n",
    "ax1.legend(lines_1 + lines_2, labels_1 + labels_2, loc='lower left')\n",
    "\n",
    "# Adjust layout\n",
    "plt.tight_layout()\n",
    "plt.show()"
   ]
  },
  {
   "cell_type": "markdown",
   "id": "4a61f255-e5a3-4efd-9de8-a01273c4f272",
   "metadata": {},
   "source": [
    "This new visualization with data that is available which is also complete, provides us a much better picture of the current situation\n",
    "\n",
    "The availability increased as the count of listing_ids per month also increased starting from February 2016. \n",
    "\n",
    "Now we can infer that the summer months have the lower availability, compared to other seasons. "
   ]
  },
  {
   "cell_type": "markdown",
   "id": "5bb729be-b2d1-473d-b372-190becf607da",
   "metadata": {},
   "source": [
    "<h2 id='part1'>Question 2: How does the Airbnb pricing distribution look by month?</h2>"
   ]
  },
  {
   "cell_type": "code",
   "execution_count": 27,
   "id": "91365d65-295e-4d39-947a-c75cadb3ce71",
   "metadata": {},
   "outputs": [
    {
     "data": {
      "text/plain": [
       "month_year\n",
       "2016-01    127.896042\n",
       "2016-02    128.666177\n",
       "2016-03    131.549319\n",
       "2016-04    133.789603\n",
       "2016-05    136.693700\n",
       "2016-06    142.366276\n",
       "2016-07    143.388596\n",
       "2016-08    142.744867\n",
       "2016-09    138.189591\n",
       "2016-10    134.421261\n",
       "2016-11    133.654091\n",
       "2016-12    134.823492\n",
       "Freq: M, Name: price, dtype: float64"
      ]
     },
     "execution_count": 27,
     "metadata": {},
     "output_type": "execute_result"
    }
   ],
   "source": [
    "#In order to answer this question, we will look in to bhe mean price by month:\n",
    "\n",
    "mean_price_by_month = merged_df.groupby('month_year')['price'].mean()\n",
    "mean_price_by_month"
   ]
  },
  {
   "cell_type": "code",
   "execution_count": 28,
   "id": "2715c7b2-8f19-4935-afe6-01536012d0dd",
   "metadata": {},
   "outputs": [
    {
     "data": {
      "image/png": "[encoded data removed]",
      "text/plain": [
       "<Figure size 640x480 with 1 Axes>"
      ]
     },
     "metadata": {},
     "output_type": "display_data"
    }
   ],
   "source": [
    "mean_price_by_month.plot(title='Mean Price by Month');"
   ]
  },
  {
   "cell_type": "markdown",
   "id": "2765ce31-75c1-4c83-adbe-6699ee791006",
   "metadata": {},
   "source": [
    "<h3 id='part1'>Price Distribution by Month:</h3>\n",
    "\n",
    "As we saw answering the previous question, summer was the busiest period. \n",
    "\n",
    "We can defentily see that the property owners know this, as there is a significant raise on the prices during the summer months.\n",
    "\n",
    "If we compare this the cheapest month (Jan 2016) to the most expensive month (Jul 2016), we can see that there was an increase of $16. \n",
    "So let´s take the following trends to establish a correlation: \n",
    "\n",
    "- Count of linting_id increased since February 2016.\n",
    "- Pricing increased significantly for the summer months - as these are the bussiest months. \n",
    "- Pricing decreased slightly for the winter months - however not back to the January pricing.\n",
    "\n",
    "- As a consequence, we did not see a decrease on the availability rate in the winter season. \n"
   ]
  },
  {
   "cell_type": "markdown",
   "id": "eb1b43f3-5e34-4e75-85f7-c20d5087890c",
   "metadata": {},
   "source": [
    "<h2 id='part1'>Question 3: What are the top 5 neighborhoods based on availability? </h2>\n"
   ]
  },
  {
   "cell_type": "code",
   "execution_count": 29,
   "id": "8ca304b9-87f1-42d1-84b4-72eb27ccc0af",
   "metadata": {},
   "outputs": [
    {
     "data": {
      "text/html": [
       "<div>\n",
       "<style scoped>\n",
       "    .dataframe tbody tr th:only-of-type {\n",
       "        vertical-align: middle;\n",
       "    }\n",
       "\n",
       "    .dataframe tbody tr th {\n",
       "        vertical-align: top;\n",
       "    }\n",
       "\n",
       "    .dataframe thead th {\n",
       "        text-align: right;\n",
       "    }\n",
       "</style>\n",
       "<table border=\"1\" class=\"dataframe\">\n",
       "  <thead>\n",
       "    <tr style=\"text-align: right;\">\n",
       "      <th></th>\n",
       "      <th>neighbourhood_cleansed</th>\n",
       "      <th>total_count</th>\n",
       "    </tr>\n",
       "  </thead>\n",
       "  <tbody>\n",
       "    <tr>\n",
       "      <th>9</th>\n",
       "      <td>Broadway</td>\n",
       "      <td>144111</td>\n",
       "    </tr>\n",
       "    <tr>\n",
       "      <th>4</th>\n",
       "      <td>Belltown</td>\n",
       "      <td>84942</td>\n",
       "    </tr>\n",
       "    <tr>\n",
       "      <th>79</th>\n",
       "      <td>Wallingford</td>\n",
       "      <td>60621</td>\n",
       "    </tr>\n",
       "    <tr>\n",
       "      <th>21</th>\n",
       "      <td>Fremont</td>\n",
       "      <td>57354</td>\n",
       "    </tr>\n",
       "    <tr>\n",
       "      <th>47</th>\n",
       "      <td>Minor</td>\n",
       "      <td>49005</td>\n",
       "    </tr>\n",
       "  </tbody>\n",
       "</table>\n",
       "</div>"
      ],
      "text/plain": [
       "   neighbourhood_cleansed  total_count\n",
       "9                Broadway       144111\n",
       "4                Belltown        84942\n",
       "79            Wallingford        60621\n",
       "21                Fremont        57354\n",
       "47                  Minor        49005"
      ]
     },
     "execution_count": 29,
     "metadata": {},
     "output_type": "execute_result"
    }
   ],
   "source": [
    "#1st let us look into the count of listed properties by neighbourhood\n",
    "properties_by_neighbourhood = merged_df.groupby('neighbourhood_cleansed')['listing_id'].count().reset_index(name='total_count')\n",
    "sorted_neighborhoods = properties_by_neighbourhood.sort_values(by='total_count', ascending=False)\n",
    "sorted_neighborhoods.head()"
   ]
  },
  {
   "cell_type": "markdown",
   "id": "2049b788-d68a-4934-8c74-1bdb34215390",
   "metadata": {},
   "source": [
    "We see that Braodway, Belltown and Wallingford are the neighbourdhoods with the top count of listed properties. "
   ]
  },
  {
   "cell_type": "code",
   "execution_count": 30,
   "id": "2a4ba47f-20c1-41f8-88c5-a65d94396f92",
   "metadata": {},
   "outputs": [
    {
     "data": {
      "text/html": [
       "<div>\n",
       "<style scoped>\n",
       "    .dataframe tbody tr th:only-of-type {\n",
       "        vertical-align: middle;\n",
       "    }\n",
       "\n",
       "    .dataframe tbody tr th {\n",
       "        vertical-align: top;\n",
       "    }\n",
       "\n",
       "    .dataframe thead th {\n",
       "        text-align: right;\n",
       "    }\n",
       "</style>\n",
       "<table border=\"1\" class=\"dataframe\">\n",
       "  <thead>\n",
       "    <tr style=\"text-align: right;\">\n",
       "      <th></th>\n",
       "      <th>neighbourhood_cleansed</th>\n",
       "      <th>available_count</th>\n",
       "    </tr>\n",
       "  </thead>\n",
       "  <tbody>\n",
       "    <tr>\n",
       "      <th>0</th>\n",
       "      <td>Broadway</td>\n",
       "      <td>89865</td>\n",
       "    </tr>\n",
       "    <tr>\n",
       "      <th>1</th>\n",
       "      <td>Belltown</td>\n",
       "      <td>53038</td>\n",
       "    </tr>\n",
       "    <tr>\n",
       "      <th>2</th>\n",
       "      <td>Wallingford</td>\n",
       "      <td>42527</td>\n",
       "    </tr>\n",
       "    <tr>\n",
       "      <th>3</th>\n",
       "      <td>Fremont</td>\n",
       "      <td>39082</td>\n",
       "    </tr>\n",
       "    <tr>\n",
       "      <th>4</th>\n",
       "      <td>Minor</td>\n",
       "      <td>34212</td>\n",
       "    </tr>\n",
       "  </tbody>\n",
       "</table>\n",
       "</div>"
      ],
      "text/plain": [
       "  neighbourhood_cleansed  available_count\n",
       "0               Broadway            89865\n",
       "1               Belltown            53038\n",
       "2            Wallingford            42527\n",
       "3                Fremont            39082\n",
       "4                  Minor            34212"
      ]
     },
     "execution_count": 30,
     "metadata": {},
     "output_type": "execute_result"
    }
   ],
   "source": [
    "#Now let´s get the total count of available properties by neigbourhood:\n",
    "#Filter the DataFrame for available properties\n",
    "available_properties = merged_df[merged_df['available'] == True]\n",
    "\n",
    "# Group by neighborhood and count the occurrences\n",
    "neighbourhood_availability_count = available_properties['neighbourhood_cleansed'].value_counts().reset_index(name='available_count')\n",
    "neighbourhood_availability_count.columns = ['neighbourhood_cleansed', 'available_count']  # Rename columns\n",
    "\n",
    "neighbourhood_availability_count.head()\n"
   ]
  },
  {
   "cell_type": "code",
   "execution_count": 31,
   "id": "18967861-6eef-43c5-ac89-d867ee2f574d",
   "metadata": {
    "scrolled": true
   },
   "outputs": [
    {
     "data": {
      "text/html": [
       "<div>\n",
       "<style scoped>\n",
       "    .dataframe tbody tr th:only-of-type {\n",
       "        vertical-align: middle;\n",
       "    }\n",
       "\n",
       "    .dataframe tbody tr th {\n",
       "        vertical-align: top;\n",
       "    }\n",
       "\n",
       "    .dataframe thead th {\n",
       "        text-align: right;\n",
       "    }\n",
       "</style>\n",
       "<table border=\"1\" class=\"dataframe\">\n",
       "  <thead>\n",
       "    <tr style=\"text-align: right;\">\n",
       "      <th></th>\n",
       "      <th>neighbourhood_cleansed</th>\n",
       "      <th>total_count</th>\n",
       "      <th>available_count</th>\n",
       "      <th>availability_percentage</th>\n",
       "    </tr>\n",
       "  </thead>\n",
       "  <tbody>\n",
       "    <tr>\n",
       "      <th>31</th>\n",
       "      <td>Holly Park</td>\n",
       "      <td>2178</td>\n",
       "      <td>2117</td>\n",
       "      <td>97.199265</td>\n",
       "    </tr>\n",
       "    <tr>\n",
       "      <th>66</th>\n",
       "      <td>Roxhill</td>\n",
       "      <td>726</td>\n",
       "      <td>692</td>\n",
       "      <td>95.316804</td>\n",
       "    </tr>\n",
       "    <tr>\n",
       "      <th>29</th>\n",
       "      <td>High Point</td>\n",
       "      <td>5082</td>\n",
       "      <td>4796</td>\n",
       "      <td>94.372294</td>\n",
       "    </tr>\n",
       "    <tr>\n",
       "      <th>30</th>\n",
       "      <td>Highland Park</td>\n",
       "      <td>3993</td>\n",
       "      <td>3488</td>\n",
       "      <td>87.352868</td>\n",
       "    </tr>\n",
       "    <tr>\n",
       "      <th>6</th>\n",
       "      <td>Briarcliff</td>\n",
       "      <td>5082</td>\n",
       "      <td>4396</td>\n",
       "      <td>86.501377</td>\n",
       "    </tr>\n",
       "    <tr>\n",
       "      <th>...</th>\n",
       "      <td>...</td>\n",
       "      <td>...</td>\n",
       "      <td>...</td>\n",
       "      <td>...</td>\n",
       "    </tr>\n",
       "    <tr>\n",
       "      <th>64</th>\n",
       "      <td>Riverview</td>\n",
       "      <td>2904</td>\n",
       "      <td>1579</td>\n",
       "      <td>54.373278</td>\n",
       "    </tr>\n",
       "    <tr>\n",
       "      <th>67</th>\n",
       "      <td>Seaview</td>\n",
       "      <td>4356</td>\n",
       "      <td>2274</td>\n",
       "      <td>52.203857</td>\n",
       "    </tr>\n",
       "    <tr>\n",
       "      <th>51</th>\n",
       "      <td>North Beach/Blue Ridge</td>\n",
       "      <td>5082</td>\n",
       "      <td>2614</td>\n",
       "      <td>51.436442</td>\n",
       "    </tr>\n",
       "    <tr>\n",
       "      <th>69</th>\n",
       "      <td>South Beacon Hill</td>\n",
       "      <td>1452</td>\n",
       "      <td>729</td>\n",
       "      <td>50.206612</td>\n",
       "    </tr>\n",
       "    <tr>\n",
       "      <th>71</th>\n",
       "      <td>South Lake Union</td>\n",
       "      <td>9801</td>\n",
       "      <td>4431</td>\n",
       "      <td>45.209672</td>\n",
       "    </tr>\n",
       "  </tbody>\n",
       "</table>\n",
       "<p>87 rows × 4 columns</p>\n",
       "</div>"
      ],
      "text/plain": [
       "    neighbourhood_cleansed  total_count  available_count  \\\n",
       "31              Holly Park         2178             2117   \n",
       "66                 Roxhill          726              692   \n",
       "29              High Point         5082             4796   \n",
       "30           Highland Park         3993             3488   \n",
       "6               Briarcliff         5082             4396   \n",
       "..                     ...          ...              ...   \n",
       "64               Riverview         2904             1579   \n",
       "67                 Seaview         4356             2274   \n",
       "51  North Beach/Blue Ridge         5082             2614   \n",
       "69       South Beacon Hill         1452              729   \n",
       "71        South Lake Union         9801             4431   \n",
       "\n",
       "    availability_percentage  \n",
       "31                97.199265  \n",
       "66                95.316804  \n",
       "29                94.372294  \n",
       "30                87.352868  \n",
       "6                 86.501377  \n",
       "..                      ...  \n",
       "64                54.373278  \n",
       "67                52.203857  \n",
       "51                51.436442  \n",
       "69                50.206612  \n",
       "71                45.209672  \n",
       "\n",
       "[87 rows x 4 columns]"
      ]
     },
     "execution_count": 31,
     "metadata": {},
     "output_type": "execute_result"
    }
   ],
   "source": [
    "#To get a better understanding, we are now going to look into the percentage of available property. \n",
    "#1st let's merge the two DataFrames on 'neighbourhood_cleansed'\n",
    "availability_percentage = pd.merge(properties_by_neighbourhood, neighbourhood_availability_count, \n",
    "                                    on='neighbourhood_cleansed', how='left')\n",
    "\n",
    "# Now calculate the availability percentage\n",
    "availability_percentage['availability_percentage'] = (availability_percentage['available_count'].fillna(0) / \n",
    "                                                      availability_percentage['total_count']) * 100\n",
    "\n",
    "# Select relevant columns and rename for clarity\n",
    "availability_percentage = availability_percentage[['neighbourhood_cleansed', 'total_count', 'available_count', 'availability_percentage']]\n",
    "\n",
    "#Now we got a list where we see the neighbourhoods with the top available percentage of properties:\n",
    "(availability_percentage.sort_values(by='availability_percentage', ascending=False))"
   ]
  },
  {
   "cell_type": "code",
   "execution_count": 32,
   "id": "f1bfc2a3-79e8-4d8e-a98d-b020c6dc4320",
   "metadata": {},
   "outputs": [
    {
     "data": {
      "text/html": [
       "<div>\n",
       "<style scoped>\n",
       "    .dataframe tbody tr th:only-of-type {\n",
       "        vertical-align: middle;\n",
       "    }\n",
       "\n",
       "    .dataframe tbody tr th {\n",
       "        vertical-align: top;\n",
       "    }\n",
       "\n",
       "    .dataframe thead th {\n",
       "        text-align: right;\n",
       "    }\n",
       "</style>\n",
       "<table border=\"1\" class=\"dataframe\">\n",
       "  <thead>\n",
       "    <tr style=\"text-align: right;\">\n",
       "      <th></th>\n",
       "      <th>neighbourhood_cleansed</th>\n",
       "      <th>total_count</th>\n",
       "      <th>available_count</th>\n",
       "      <th>availability_percentage</th>\n",
       "    </tr>\n",
       "  </thead>\n",
       "  <tbody>\n",
       "    <tr>\n",
       "      <th>71</th>\n",
       "      <td>South Lake Union</td>\n",
       "      <td>9801</td>\n",
       "      <td>4431</td>\n",
       "      <td>45.209672</td>\n",
       "    </tr>\n",
       "    <tr>\n",
       "      <th>69</th>\n",
       "      <td>South Beacon Hill</td>\n",
       "      <td>1452</td>\n",
       "      <td>729</td>\n",
       "      <td>50.206612</td>\n",
       "    </tr>\n",
       "    <tr>\n",
       "      <th>51</th>\n",
       "      <td>North Beach/Blue Ridge</td>\n",
       "      <td>5082</td>\n",
       "      <td>2614</td>\n",
       "      <td>51.436442</td>\n",
       "    </tr>\n",
       "    <tr>\n",
       "      <th>67</th>\n",
       "      <td>Seaview</td>\n",
       "      <td>4356</td>\n",
       "      <td>2274</td>\n",
       "      <td>52.203857</td>\n",
       "    </tr>\n",
       "    <tr>\n",
       "      <th>64</th>\n",
       "      <td>Riverview</td>\n",
       "      <td>2904</td>\n",
       "      <td>1579</td>\n",
       "      <td>54.373278</td>\n",
       "    </tr>\n",
       "    <tr>\n",
       "      <th>...</th>\n",
       "      <td>...</td>\n",
       "      <td>...</td>\n",
       "      <td>...</td>\n",
       "      <td>...</td>\n",
       "    </tr>\n",
       "    <tr>\n",
       "      <th>6</th>\n",
       "      <td>Briarcliff</td>\n",
       "      <td>5082</td>\n",
       "      <td>4396</td>\n",
       "      <td>86.501377</td>\n",
       "    </tr>\n",
       "    <tr>\n",
       "      <th>30</th>\n",
       "      <td>Highland Park</td>\n",
       "      <td>3993</td>\n",
       "      <td>3488</td>\n",
       "      <td>87.352868</td>\n",
       "    </tr>\n",
       "    <tr>\n",
       "      <th>29</th>\n",
       "      <td>High Point</td>\n",
       "      <td>5082</td>\n",
       "      <td>4796</td>\n",
       "      <td>94.372294</td>\n",
       "    </tr>\n",
       "    <tr>\n",
       "      <th>66</th>\n",
       "      <td>Roxhill</td>\n",
       "      <td>726</td>\n",
       "      <td>692</td>\n",
       "      <td>95.316804</td>\n",
       "    </tr>\n",
       "    <tr>\n",
       "      <th>31</th>\n",
       "      <td>Holly Park</td>\n",
       "      <td>2178</td>\n",
       "      <td>2117</td>\n",
       "      <td>97.199265</td>\n",
       "    </tr>\n",
       "  </tbody>\n",
       "</table>\n",
       "<p>87 rows × 4 columns</p>\n",
       "</div>"
      ],
      "text/plain": [
       "    neighbourhood_cleansed  total_count  available_count  \\\n",
       "71        South Lake Union         9801             4431   \n",
       "69       South Beacon Hill         1452              729   \n",
       "51  North Beach/Blue Ridge         5082             2614   \n",
       "67                 Seaview         4356             2274   \n",
       "64               Riverview         2904             1579   \n",
       "..                     ...          ...              ...   \n",
       "6               Briarcliff         5082             4396   \n",
       "30           Highland Park         3993             3488   \n",
       "29              High Point         5082             4796   \n",
       "66                 Roxhill          726              692   \n",
       "31              Holly Park         2178             2117   \n",
       "\n",
       "    availability_percentage  \n",
       "71                45.209672  \n",
       "69                50.206612  \n",
       "51                51.436442  \n",
       "67                52.203857  \n",
       "64                54.373278  \n",
       "..                      ...  \n",
       "6                 86.501377  \n",
       "30                87.352868  \n",
       "29                94.372294  \n",
       "66                95.316804  \n",
       "31                97.199265  \n",
       "\n",
       "[87 rows x 4 columns]"
      ]
     },
     "execution_count": 32,
     "metadata": {},
     "output_type": "execute_result"
    }
   ],
   "source": [
    "#When we examine the list ascending, we get the neighbourhoods where we have the least probability to rent a property:\n",
    "(availability_percentage.sort_values(by='availability_percentage', ascending=True))"
   ]
  },
  {
   "cell_type": "code",
   "execution_count": 33,
   "id": "cde87089-1692-4ff5-9280-6da338c68486",
   "metadata": {},
   "outputs": [
    {
     "data": {
      "image/png": "[encoded data removed]",
      "text/plain": [
       "<Figure size 1500x500 with 2 Axes>"
      ]
     },
     "metadata": {},
     "output_type": "display_data"
    }
   ],
   "source": [
    "#To get a better understanding of the data, we are going to visualize the neighbourhoods with the most and the least availability:\n",
    "\n",
    "top_5_availability = availability_percentage.sort_values(by='availability_percentage', ascending=False).head(5)\n",
    "least_5_availability = availability_percentage.sort_values(by='availability_percentage', ascending=True).head(5)\n",
    "\n",
    "plt.figure(figsize=[15, 5])\n",
    "\n",
    "# Plot for Top 5 Neighborhoods\n",
    "plt.subplot(1, 2, 2)\n",
    "sns.barplot(data=top_5_availability.sort_values(by='availability_percentage', ascending=True), x='neighbourhood_cleansed', y='availability_percentage', color='tab:blue', order=top_5_availability.sort_values(by='availability_percentage', ascending=True)['neighbourhood_cleansed'])\n",
    "plt.xticks(rotation=30);\n",
    "plt.xlabel('Top 5 Neighborhoods by Availability')\n",
    "plt.ylim(40, 100)  # Set y-axis limits from 40% to 100%\n",
    "\n",
    "# Plot for Least 5 Neighborhoods\n",
    "plt.subplot(1, 2, 1)\n",
    "sns.barplot(data=least_5_availability, x='neighbourhood_cleansed', y='availability_percentage', color='tab:blue', order=least_5_availability['neighbourhood_cleansed']);\n",
    "plt.xticks(rotation=30);\n",
    "plt.xlabel('Least 5 Neighborhoods by Availability')\n",
    "plt.ylim(40, 100)  # Set y-axis limits from 40% to 100%\n",
    "\n",
    "plt.tight_layout()  # Adjusts the subplots to fit into the figure area.\n",
    "plt.show()"
   ]
  },
  {
   "cell_type": "markdown",
   "id": "290578e0-be01-45ec-adde-ce48a87cf59c",
   "metadata": {},
   "source": [
    "Now, we can see that it would be more difficult to get a rental in neighbourhoods such as: \n",
    "- South Lake Union\n",
    "- South Beacon Hill\n",
    "- North Beach/Blue Ridge\n",
    "\n",
    "At the same time, we will have better chances to get a rental at:\n",
    "- Holly Park\n",
    "- Roxhill\n",
    "- High Point"
   ]
  },
  {
   "cell_type": "markdown",
   "id": "fa546bad-ce99-4194-b4fc-9c0a12ca1db4",
   "metadata": {},
   "source": [
    "<h1 id='part1'>Section 4: Data Modelling</h1>"
   ]
  },
  {
   "cell_type": "code",
   "execution_count": 34,
   "id": "03a436da-479b-4e31-b831-0c7a39735dfe",
   "metadata": {},
   "outputs": [
    {
     "data": {
      "text/html": [
       "<div>\n",
       "<style scoped>\n",
       "    .dataframe tbody tr th:only-of-type {\n",
       "        vertical-align: middle;\n",
       "    }\n",
       "\n",
       "    .dataframe tbody tr th {\n",
       "        vertical-align: top;\n",
       "    }\n",
       "\n",
       "    .dataframe thead th {\n",
       "        text-align: right;\n",
       "    }\n",
       "</style>\n",
       "<table border=\"1\" class=\"dataframe\">\n",
       "  <thead>\n",
       "    <tr style=\"text-align: right;\">\n",
       "      <th></th>\n",
       "      <th>listing_id</th>\n",
       "      <th>date</th>\n",
       "      <th>available</th>\n",
       "      <th>price</th>\n",
       "      <th>neighbourhood_cleansed</th>\n",
       "      <th>month_year</th>\n",
       "    </tr>\n",
       "  </thead>\n",
       "  <tbody>\n",
       "    <tr>\n",
       "      <th>0</th>\n",
       "      <td>241032</td>\n",
       "      <td>2016-01-04</td>\n",
       "      <td>True</td>\n",
       "      <td>85.0</td>\n",
       "      <td>West Queen Anne</td>\n",
       "      <td>2016-01</td>\n",
       "    </tr>\n",
       "    <tr>\n",
       "      <th>1</th>\n",
       "      <td>241032</td>\n",
       "      <td>2016-01-05</td>\n",
       "      <td>True</td>\n",
       "      <td>85.0</td>\n",
       "      <td>West Queen Anne</td>\n",
       "      <td>2016-01</td>\n",
       "    </tr>\n",
       "    <tr>\n",
       "      <th>2</th>\n",
       "      <td>241032</td>\n",
       "      <td>2016-01-06</td>\n",
       "      <td>False</td>\n",
       "      <td>85.0</td>\n",
       "      <td>West Queen Anne</td>\n",
       "      <td>2016-01</td>\n",
       "    </tr>\n",
       "    <tr>\n",
       "      <th>3</th>\n",
       "      <td>241032</td>\n",
       "      <td>2016-01-07</td>\n",
       "      <td>False</td>\n",
       "      <td>85.0</td>\n",
       "      <td>West Queen Anne</td>\n",
       "      <td>2016-01</td>\n",
       "    </tr>\n",
       "    <tr>\n",
       "      <th>4</th>\n",
       "      <td>241032</td>\n",
       "      <td>2016-01-08</td>\n",
       "      <td>False</td>\n",
       "      <td>85.0</td>\n",
       "      <td>West Queen Anne</td>\n",
       "      <td>2016-01</td>\n",
       "    </tr>\n",
       "  </tbody>\n",
       "</table>\n",
       "</div>"
      ],
      "text/plain": [
       "  listing_id       date  available  price neighbourhood_cleansed month_year\n",
       "0     241032 2016-01-04       True   85.0        West Queen Anne    2016-01\n",
       "1     241032 2016-01-05       True   85.0        West Queen Anne    2016-01\n",
       "2     241032 2016-01-06      False   85.0        West Queen Anne    2016-01\n",
       "3     241032 2016-01-07      False   85.0        West Queen Anne    2016-01\n",
       "4     241032 2016-01-08      False   85.0        West Queen Anne    2016-01"
      ]
     },
     "execution_count": 34,
     "metadata": {},
     "output_type": "execute_result"
    }
   ],
   "source": [
    "#We will try to predict \n",
    "merged_df.head()"
   ]
  },
  {
   "cell_type": "code",
   "execution_count": 35,
   "id": "49e9a047-7373-4ae5-b400-6beb6a24ebed",
   "metadata": {},
   "outputs": [
    {
     "name": "stdout",
     "output_type": "stream",
     "text": [
      "<class 'pandas.core.frame.DataFrame'>\n",
      "Index: 1385934 entries, 0 to 1393567\n",
      "Data columns (total 6 columns):\n",
      " #   Column                  Non-Null Count    Dtype         \n",
      "---  ------                  --------------    -----         \n",
      " 0   listing_id              1385934 non-null  object        \n",
      " 1   date                    1385934 non-null  datetime64[ns]\n",
      " 2   available               1385934 non-null  bool          \n",
      " 3   price                   1385934 non-null  float64       \n",
      " 4   neighbourhood_cleansed  1385934 non-null  object        \n",
      " 5   month_year              1385934 non-null  period[M]     \n",
      "dtypes: bool(1), datetime64[ns](1), float64(1), object(2), period[M](1)\n",
      "memory usage: 64.8+ MB\n"
     ]
    }
   ],
   "source": [
    "merged_df.info()"
   ]
  },
  {
   "cell_type": "code",
   "execution_count": 36,
   "id": "ce2b5e6a-e778-4151-9a82-67da57098e1c",
   "metadata": {},
   "outputs": [
    {
     "data": {
      "text/plain": [
       "listing_id                        object\n",
       "date                      datetime64[ns]\n",
       "available                           bool\n",
       "price                            float64\n",
       "neighbourhood_cleansed            object\n",
       "month_year                     period[M]\n",
       "dtype: object"
      ]
     },
     "execution_count": 36,
     "metadata": {},
     "output_type": "execute_result"
    }
   ],
   "source": [
    "merged_df.dtypes"
   ]
  },
  {
   "cell_type": "code",
   "execution_count": 37,
   "id": "3a8afe53-f395-4338-9e64-7186fdc60187",
   "metadata": {},
   "outputs": [],
   "source": [
    "merged_df['month'] = merged_df['date'].dt.month\n",
    "merged_df['day_of_week'] = merged_df['date'].dt.dayofweek  # 0=Monday, 6=Sunday"
   ]
  },
  {
   "cell_type": "code",
   "execution_count": 38,
   "id": "2ad5b6dc-1caf-4fcf-a699-c77db38f27f7",
   "metadata": {},
   "outputs": [],
   "source": [
    "#The price feature may need scaling or normalization to improve model performance:\n",
    "\n",
    "scaler = StandardScaler()\n",
    "merged_df['price_scaled'] = scaler.fit_transform(merged_df[['price']])"
   ]
  },
  {
   "cell_type": "code",
   "execution_count": 39,
   "id": "c309e1e9-9f47-4267-9e78-b1036919d5a8",
   "metadata": {},
   "outputs": [],
   "source": [
    "#Convert the available column to binary values:\n",
    "merged_df['available'] = merged_df['available'].astype(int)"
   ]
  },
  {
   "cell_type": "code",
   "execution_count": 40,
   "id": "a7d2d2a3-14b7-4e65-a067-c3ebf3faac4d",
   "metadata": {},
   "outputs": [
    {
     "data": {
      "text/html": [
       "<div>\n",
       "<style scoped>\n",
       "    .dataframe tbody tr th:only-of-type {\n",
       "        vertical-align: middle;\n",
       "    }\n",
       "\n",
       "    .dataframe tbody tr th {\n",
       "        vertical-align: top;\n",
       "    }\n",
       "\n",
       "    .dataframe thead th {\n",
       "        text-align: right;\n",
       "    }\n",
       "</style>\n",
       "<table border=\"1\" class=\"dataframe\">\n",
       "  <thead>\n",
       "    <tr style=\"text-align: right;\">\n",
       "      <th></th>\n",
       "      <th>month</th>\n",
       "      <th>day_of_week</th>\n",
       "      <th>price_scaled</th>\n",
       "      <th>available</th>\n",
       "    </tr>\n",
       "  </thead>\n",
       "  <tbody>\n",
       "    <tr>\n",
       "      <th>0</th>\n",
       "      <td>1</td>\n",
       "      <td>0</td>\n",
       "      <td>-0.513888</td>\n",
       "      <td>1</td>\n",
       "    </tr>\n",
       "    <tr>\n",
       "      <th>1</th>\n",
       "      <td>1</td>\n",
       "      <td>1</td>\n",
       "      <td>-0.513888</td>\n",
       "      <td>1</td>\n",
       "    </tr>\n",
       "    <tr>\n",
       "      <th>2</th>\n",
       "      <td>1</td>\n",
       "      <td>2</td>\n",
       "      <td>-0.513888</td>\n",
       "      <td>0</td>\n",
       "    </tr>\n",
       "    <tr>\n",
       "      <th>3</th>\n",
       "      <td>1</td>\n",
       "      <td>3</td>\n",
       "      <td>-0.513888</td>\n",
       "      <td>0</td>\n",
       "    </tr>\n",
       "    <tr>\n",
       "      <th>4</th>\n",
       "      <td>1</td>\n",
       "      <td>4</td>\n",
       "      <td>-0.513888</td>\n",
       "      <td>0</td>\n",
       "    </tr>\n",
       "  </tbody>\n",
       "</table>\n",
       "</div>"
      ],
      "text/plain": [
       "   month  day_of_week  price_scaled  available\n",
       "0      1            0     -0.513888          1\n",
       "1      1            1     -0.513888          1\n",
       "2      1            2     -0.513888          0\n",
       "3      1            3     -0.513888          0\n",
       "4      1            4     -0.513888          0"
      ]
     },
     "execution_count": 40,
     "metadata": {},
     "output_type": "execute_result"
    }
   ],
   "source": [
    "data_2016 = merged_df[['month', 'day_of_week', 'price_scaled', 'available']]\n",
    "data_2016.head()"
   ]
  },
  {
   "cell_type": "code",
   "execution_count": 41,
   "id": "5cbc9779-44f5-434a-a845-3ea8cab8abce",
   "metadata": {},
   "outputs": [
    {
     "name": "stdout",
     "output_type": "stream",
     "text": [
      "<class 'pandas.core.frame.DataFrame'>\n",
      "Index: 1385934 entries, 0 to 1393567\n",
      "Data columns (total 4 columns):\n",
      " #   Column        Non-Null Count    Dtype  \n",
      "---  ------        --------------    -----  \n",
      " 0   month         1385934 non-null  int32  \n",
      " 1   day_of_week   1385934 non-null  int32  \n",
      " 2   price_scaled  1385934 non-null  float64\n",
      " 3   available     1385934 non-null  int32  \n",
      "dtypes: float64(1), int32(3)\n",
      "memory usage: 37.0 MB\n"
     ]
    }
   ],
   "source": [
    "data_2016.info()"
   ]
  },
  {
   "cell_type": "code",
   "execution_count": 42,
   "id": "726acd29-a47c-40b1-b9dd-93e1b20d647f",
   "metadata": {},
   "outputs": [],
   "source": [
    "X = data_2016.drop(columns=['available'])  # Features\n",
    "y = data_2016['available']  # Target\n",
    "\n",
    "X_train, X_test, y_train, y_test = train_test_split(X, y, test_size=0.2, random_state=42)"
   ]
  },
  {
   "cell_type": "code",
   "execution_count": 43,
   "id": "5cd8a7d4-9a35-4604-bb20-8399dc739164",
   "metadata": {},
   "outputs": [
    {
     "name": "stdout",
     "output_type": "stream",
     "text": [
      "              precision    recall  f1-score   support\n",
      "\n",
      "           0       0.00      0.00      0.00     91066\n",
      "           1       0.67      1.00      0.80    186121\n",
      "\n",
      "    accuracy                           0.67    277187\n",
      "   macro avg       0.34      0.50      0.40    277187\n",
      "weighted avg       0.45      0.67      0.54    277187\n",
      "\n"
     ]
    },
    {
     "name": "stderr",
     "output_type": "stream",
     "text": [
      "C:\\Users\\MILM004\\AppData\\Local\\anaconda3\\Lib\\site-packages\\sklearn\\metrics\\_classification.py:1344: UndefinedMetricWarning: Precision and F-score are ill-defined and being set to 0.0 in labels with no predicted samples. Use `zero_division` parameter to control this behavior.\n",
      "  _warn_prf(average, modifier, msg_start, len(result))\n",
      "C:\\Users\\MILM004\\AppData\\Local\\anaconda3\\Lib\\site-packages\\sklearn\\metrics\\_classification.py:1344: UndefinedMetricWarning: Precision and F-score are ill-defined and being set to 0.0 in labels with no predicted samples. Use `zero_division` parameter to control this behavior.\n",
      "  _warn_prf(average, modifier, msg_start, len(result))\n",
      "C:\\Users\\MILM004\\AppData\\Local\\anaconda3\\Lib\\site-packages\\sklearn\\metrics\\_classification.py:1344: UndefinedMetricWarning: Precision and F-score are ill-defined and being set to 0.0 in labels with no predicted samples. Use `zero_division` parameter to control this behavior.\n",
      "  _warn_prf(average, modifier, msg_start, len(result))\n"
     ]
    }
   ],
   "source": [
    "# Train the model\n",
    "model = LogisticRegression(random_state=42)\n",
    "model.fit(X_train, y_train)\n",
    "\n",
    "# Predict\n",
    "y_pred = model.predict(X_test)\n",
    "\n",
    "# Evaluate\n",
    "print(classification_report(y_test, y_pred))"
   ]
  }
 ],
 "metadata": {
  "kernelspec": {
   "display_name": "Python 3 (ipykernel)",
   "language": "python",
   "name": "python3"
  },
  "language_info": {
   "codemirror_mode": {
    "name": "ipython",
    "version": 3
   },
   "file_extension": ".py",
   "mimetype": "text/x-python",
   "name": "python",
   "nbconvert_exporter": "python",
   "pygments_lexer": "ipython3",
   "version": "3.11.7"
  }
 },
 "nbformat": 4,
 "nbformat_minor": 5
}

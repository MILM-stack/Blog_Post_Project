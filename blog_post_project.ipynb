{
 "cells": [
  {
   "cell_type": "markdown",
   "id": "bf4c1f79-0c81-4961-afcb-50ae3886a2d9",
   "metadata": {},
   "source": [
    "<h1 id='part1'>Section 1: Business Understanding</h1>\n",
    "This Airbnb datasets describe the listing and calendar acitivities of the homestays in Seattle. \n",
    "\n",
    "<h2 id='part1'>Project Motivation</h2>\n",
    "\n",
    "For this project, I wanted to have a better understanding on the availability of the accommodations in Seattle from January 2016 until January 2017.\n",
    "Therefore, my goal was to answer the following questions: \n",
    "\n",
    "**Question 1:** How does the Airbnb availability look by month?\n",
    "\n",
    "**Question 2:** How does the Airbnb pricing distribution look by month? \n",
    "\n",
    "**Question 3:** What are the top 5 neighborhoods based on availability?\n",
    "\n",
    "**Question 4:** Can we predict the future availability in the top 5 neighborhoods?"
   ]
  },
  {
   "cell_type": "markdown",
   "id": "f74f82a7-b29e-4019-917e-8bd6e5297234",
   "metadata": {},
   "source": [
    "<h1 id='part1'>Section 2: Data Understanding</h1>\n",
    "\n",
    "<h2 id='part1'>Gatehring Initial Data</h2>\n",
    "\n",
    "Let´s now import the necessary dictionaries and the Seattle Airbnb Dataset"
   ]
  },
  {
   "cell_type": "code",
   "execution_count": 1,
   "id": "13d04578-5583-4ebd-9ffc-ee78b74a52a1",
   "metadata": {},
   "outputs": [],
   "source": [
    "#Import necessary libraries\n",
    "import numpy as np\n",
    "import pandas as pd\n",
    "import matplotlib.pyplot as plt\n",
    "from sklearn.linear_model import LinearRegression\n",
    "from sklearn.model_selection import train_test_split\n",
    "from sklearn.metrics import r2_score, mean_squared_error"
   ]
  },
  {
   "cell_type": "code",
   "execution_count": 2,
   "id": "3d1e8535-f065-4322-b7ce-196553dc7bf8",
   "metadata": {},
   "outputs": [
    {
     "data": {
      "text/html": [
       "<div>\n",
       "<style scoped>\n",
       "    .dataframe tbody tr th:only-of-type {\n",
       "        vertical-align: middle;\n",
       "    }\n",
       "\n",
       "    .dataframe tbody tr th {\n",
       "        vertical-align: top;\n",
       "    }\n",
       "\n",
       "    .dataframe thead th {\n",
       "        text-align: right;\n",
       "    }\n",
       "</style>\n",
       "<table border=\"1\" class=\"dataframe\">\n",
       "  <thead>\n",
       "    <tr style=\"text-align: right;\">\n",
       "      <th></th>\n",
       "      <th>listing_id</th>\n",
       "      <th>date</th>\n",
       "      <th>available</th>\n",
       "      <th>price</th>\n",
       "    </tr>\n",
       "  </thead>\n",
       "  <tbody>\n",
       "    <tr>\n",
       "      <th>0</th>\n",
       "      <td>241032</td>\n",
       "      <td>2016-01-04</td>\n",
       "      <td>t</td>\n",
       "      <td>$85.00</td>\n",
       "    </tr>\n",
       "    <tr>\n",
       "      <th>1</th>\n",
       "      <td>241032</td>\n",
       "      <td>2016-01-05</td>\n",
       "      <td>t</td>\n",
       "      <td>$85.00</td>\n",
       "    </tr>\n",
       "    <tr>\n",
       "      <th>2</th>\n",
       "      <td>241032</td>\n",
       "      <td>2016-01-06</td>\n",
       "      <td>f</td>\n",
       "      <td>NaN</td>\n",
       "    </tr>\n",
       "    <tr>\n",
       "      <th>3</th>\n",
       "      <td>241032</td>\n",
       "      <td>2016-01-07</td>\n",
       "      <td>f</td>\n",
       "      <td>NaN</td>\n",
       "    </tr>\n",
       "    <tr>\n",
       "      <th>4</th>\n",
       "      <td>241032</td>\n",
       "      <td>2016-01-08</td>\n",
       "      <td>f</td>\n",
       "      <td>NaN</td>\n",
       "    </tr>\n",
       "  </tbody>\n",
       "</table>\n",
       "</div>"
      ],
      "text/plain": [
       "   listing_id        date available   price\n",
       "0      241032  2016-01-04         t  $85.00\n",
       "1      241032  2016-01-05         t  $85.00\n",
       "2      241032  2016-01-06         f     NaN\n",
       "3      241032  2016-01-07         f     NaN\n",
       "4      241032  2016-01-08         f     NaN"
      ]
     },
     "execution_count": 2,
     "metadata": {},
     "output_type": "execute_result"
    }
   ],
   "source": [
    "#Import the Calendar Seattle Airbnb Dataset\n",
    "df_calendar = pd.read_csv('calendar.csv')\n",
    "df_calendar.head()"
   ]
  },
  {
   "cell_type": "code",
   "execution_count": 3,
   "id": "87decde6-a0c3-4dfc-b02b-fc16f76105d9",
   "metadata": {},
   "outputs": [
    {
     "data": {
      "text/html": [
       "<div>\n",
       "<style scoped>\n",
       "    .dataframe tbody tr th:only-of-type {\n",
       "        vertical-align: middle;\n",
       "    }\n",
       "\n",
       "    .dataframe tbody tr th {\n",
       "        vertical-align: top;\n",
       "    }\n",
       "\n",
       "    .dataframe thead th {\n",
       "        text-align: right;\n",
       "    }\n",
       "</style>\n",
       "<table border=\"1\" class=\"dataframe\">\n",
       "  <thead>\n",
       "    <tr style=\"text-align: right;\">\n",
       "      <th></th>\n",
       "      <th>id</th>\n",
       "      <th>listing_url</th>\n",
       "      <th>scrape_id</th>\n",
       "      <th>last_scraped</th>\n",
       "      <th>name</th>\n",
       "      <th>summary</th>\n",
       "      <th>space</th>\n",
       "      <th>description</th>\n",
       "      <th>experiences_offered</th>\n",
       "      <th>neighborhood_overview</th>\n",
       "      <th>...</th>\n",
       "      <th>review_scores_value</th>\n",
       "      <th>requires_license</th>\n",
       "      <th>license</th>\n",
       "      <th>jurisdiction_names</th>\n",
       "      <th>instant_bookable</th>\n",
       "      <th>cancellation_policy</th>\n",
       "      <th>require_guest_profile_picture</th>\n",
       "      <th>require_guest_phone_verification</th>\n",
       "      <th>calculated_host_listings_count</th>\n",
       "      <th>reviews_per_month</th>\n",
       "    </tr>\n",
       "  </thead>\n",
       "  <tbody>\n",
       "    <tr>\n",
       "      <th>0</th>\n",
       "      <td>241032</td>\n",
       "      <td>https://www.airbnb.com/rooms/241032</td>\n",
       "      <td>20160104002432</td>\n",
       "      <td>2016-01-04</td>\n",
       "      <td>Stylish Queen Anne Apartment</td>\n",
       "      <td>NaN</td>\n",
       "      <td>Make your self at home in this charming one-be...</td>\n",
       "      <td>Make your self at home in this charming one-be...</td>\n",
       "      <td>none</td>\n",
       "      <td>NaN</td>\n",
       "      <td>...</td>\n",
       "      <td>10.0</td>\n",
       "      <td>f</td>\n",
       "      <td>NaN</td>\n",
       "      <td>WASHINGTON</td>\n",
       "      <td>f</td>\n",
       "      <td>moderate</td>\n",
       "      <td>f</td>\n",
       "      <td>f</td>\n",
       "      <td>2</td>\n",
       "      <td>4.07</td>\n",
       "    </tr>\n",
       "    <tr>\n",
       "      <th>1</th>\n",
       "      <td>953595</td>\n",
       "      <td>https://www.airbnb.com/rooms/953595</td>\n",
       "      <td>20160104002432</td>\n",
       "      <td>2016-01-04</td>\n",
       "      <td>Bright &amp; Airy Queen Anne Apartment</td>\n",
       "      <td>Chemically sensitive? We've removed the irrita...</td>\n",
       "      <td>Beautiful, hypoallergenic apartment in an extr...</td>\n",
       "      <td>Chemically sensitive? We've removed the irrita...</td>\n",
       "      <td>none</td>\n",
       "      <td>Queen Anne is a wonderful, truly functional vi...</td>\n",
       "      <td>...</td>\n",
       "      <td>10.0</td>\n",
       "      <td>f</td>\n",
       "      <td>NaN</td>\n",
       "      <td>WASHINGTON</td>\n",
       "      <td>f</td>\n",
       "      <td>strict</td>\n",
       "      <td>t</td>\n",
       "      <td>t</td>\n",
       "      <td>6</td>\n",
       "      <td>1.48</td>\n",
       "    </tr>\n",
       "    <tr>\n",
       "      <th>2</th>\n",
       "      <td>3308979</td>\n",
       "      <td>https://www.airbnb.com/rooms/3308979</td>\n",
       "      <td>20160104002432</td>\n",
       "      <td>2016-01-04</td>\n",
       "      <td>New Modern House-Amazing water view</td>\n",
       "      <td>New modern house built in 2013.  Spectacular s...</td>\n",
       "      <td>Our house is modern, light and fresh with a wa...</td>\n",
       "      <td>New modern house built in 2013.  Spectacular s...</td>\n",
       "      <td>none</td>\n",
       "      <td>Upper Queen Anne is a charming neighborhood fu...</td>\n",
       "      <td>...</td>\n",
       "      <td>10.0</td>\n",
       "      <td>f</td>\n",
       "      <td>NaN</td>\n",
       "      <td>WASHINGTON</td>\n",
       "      <td>f</td>\n",
       "      <td>strict</td>\n",
       "      <td>f</td>\n",
       "      <td>f</td>\n",
       "      <td>2</td>\n",
       "      <td>1.15</td>\n",
       "    </tr>\n",
       "    <tr>\n",
       "      <th>3</th>\n",
       "      <td>7421966</td>\n",
       "      <td>https://www.airbnb.com/rooms/7421966</td>\n",
       "      <td>20160104002432</td>\n",
       "      <td>2016-01-04</td>\n",
       "      <td>Queen Anne Chateau</td>\n",
       "      <td>A charming apartment that sits atop Queen Anne...</td>\n",
       "      <td>NaN</td>\n",
       "      <td>A charming apartment that sits atop Queen Anne...</td>\n",
       "      <td>none</td>\n",
       "      <td>NaN</td>\n",
       "      <td>...</td>\n",
       "      <td>NaN</td>\n",
       "      <td>f</td>\n",
       "      <td>NaN</td>\n",
       "      <td>WASHINGTON</td>\n",
       "      <td>f</td>\n",
       "      <td>flexible</td>\n",
       "      <td>f</td>\n",
       "      <td>f</td>\n",
       "      <td>1</td>\n",
       "      <td>NaN</td>\n",
       "    </tr>\n",
       "    <tr>\n",
       "      <th>4</th>\n",
       "      <td>278830</td>\n",
       "      <td>https://www.airbnb.com/rooms/278830</td>\n",
       "      <td>20160104002432</td>\n",
       "      <td>2016-01-04</td>\n",
       "      <td>Charming craftsman 3 bdm house</td>\n",
       "      <td>Cozy family craftman house in beautiful neighb...</td>\n",
       "      <td>Cozy family craftman house in beautiful neighb...</td>\n",
       "      <td>Cozy family craftman house in beautiful neighb...</td>\n",
       "      <td>none</td>\n",
       "      <td>We are in the beautiful neighborhood of Queen ...</td>\n",
       "      <td>...</td>\n",
       "      <td>9.0</td>\n",
       "      <td>f</td>\n",
       "      <td>NaN</td>\n",
       "      <td>WASHINGTON</td>\n",
       "      <td>f</td>\n",
       "      <td>strict</td>\n",
       "      <td>f</td>\n",
       "      <td>f</td>\n",
       "      <td>1</td>\n",
       "      <td>0.89</td>\n",
       "    </tr>\n",
       "  </tbody>\n",
       "</table>\n",
       "<p>5 rows × 92 columns</p>\n",
       "</div>"
      ],
      "text/plain": [
       "        id                           listing_url       scrape_id last_scraped  \\\n",
       "0   241032   https://www.airbnb.com/rooms/241032  20160104002432   2016-01-04   \n",
       "1   953595   https://www.airbnb.com/rooms/953595  20160104002432   2016-01-04   \n",
       "2  3308979  https://www.airbnb.com/rooms/3308979  20160104002432   2016-01-04   \n",
       "3  7421966  https://www.airbnb.com/rooms/7421966  20160104002432   2016-01-04   \n",
       "4   278830   https://www.airbnb.com/rooms/278830  20160104002432   2016-01-04   \n",
       "\n",
       "                                  name  \\\n",
       "0         Stylish Queen Anne Apartment   \n",
       "1   Bright & Airy Queen Anne Apartment   \n",
       "2  New Modern House-Amazing water view   \n",
       "3                   Queen Anne Chateau   \n",
       "4       Charming craftsman 3 bdm house   \n",
       "\n",
       "                                             summary  \\\n",
       "0                                                NaN   \n",
       "1  Chemically sensitive? We've removed the irrita...   \n",
       "2  New modern house built in 2013.  Spectacular s...   \n",
       "3  A charming apartment that sits atop Queen Anne...   \n",
       "4  Cozy family craftman house in beautiful neighb...   \n",
       "\n",
       "                                               space  \\\n",
       "0  Make your self at home in this charming one-be...   \n",
       "1  Beautiful, hypoallergenic apartment in an extr...   \n",
       "2  Our house is modern, light and fresh with a wa...   \n",
       "3                                                NaN   \n",
       "4  Cozy family craftman house in beautiful neighb...   \n",
       "\n",
       "                                         description experiences_offered  \\\n",
       "0  Make your self at home in this charming one-be...                none   \n",
       "1  Chemically sensitive? We've removed the irrita...                none   \n",
       "2  New modern house built in 2013.  Spectacular s...                none   \n",
       "3  A charming apartment that sits atop Queen Anne...                none   \n",
       "4  Cozy family craftman house in beautiful neighb...                none   \n",
       "\n",
       "                               neighborhood_overview  ... review_scores_value  \\\n",
       "0                                                NaN  ...                10.0   \n",
       "1  Queen Anne is a wonderful, truly functional vi...  ...                10.0   \n",
       "2  Upper Queen Anne is a charming neighborhood fu...  ...                10.0   \n",
       "3                                                NaN  ...                 NaN   \n",
       "4  We are in the beautiful neighborhood of Queen ...  ...                 9.0   \n",
       "\n",
       "  requires_license license jurisdiction_names instant_bookable  \\\n",
       "0                f     NaN         WASHINGTON                f   \n",
       "1                f     NaN         WASHINGTON                f   \n",
       "2                f     NaN         WASHINGTON                f   \n",
       "3                f     NaN         WASHINGTON                f   \n",
       "4                f     NaN         WASHINGTON                f   \n",
       "\n",
       "  cancellation_policy  require_guest_profile_picture  \\\n",
       "0            moderate                              f   \n",
       "1              strict                              t   \n",
       "2              strict                              f   \n",
       "3            flexible                              f   \n",
       "4              strict                              f   \n",
       "\n",
       "  require_guest_phone_verification calculated_host_listings_count  \\\n",
       "0                                f                              2   \n",
       "1                                t                              6   \n",
       "2                                f                              2   \n",
       "3                                f                              1   \n",
       "4                                f                              1   \n",
       "\n",
       "  reviews_per_month  \n",
       "0              4.07  \n",
       "1              1.48  \n",
       "2              1.15  \n",
       "3               NaN  \n",
       "4              0.89  \n",
       "\n",
       "[5 rows x 92 columns]"
      ]
     },
     "execution_count": 3,
     "metadata": {},
     "output_type": "execute_result"
    }
   ],
   "source": [
    "#Import the Listing Seattle Airbnb Dataset\n",
    "df_listings = pd.read_csv('listings.csv')\n",
    "df_listings.head()"
   ]
  },
  {
   "cell_type": "code",
   "execution_count": 4,
   "id": "c827a75a-2af4-408e-a7f5-9118dd21d6af",
   "metadata": {},
   "outputs": [
    {
     "name": "stdout",
     "output_type": "stream",
     "text": [
      "<class 'pandas.core.frame.DataFrame'>\n",
      "RangeIndex: 1393570 entries, 0 to 1393569\n",
      "Data columns (total 4 columns):\n",
      " #   Column      Non-Null Count    Dtype \n",
      "---  ------      --------------    ----- \n",
      " 0   listing_id  1393570 non-null  int64 \n",
      " 1   date        1393570 non-null  object\n",
      " 2   available   1393570 non-null  object\n",
      " 3   price       934542 non-null   object\n",
      "dtypes: int64(1), object(3)\n",
      "memory usage: 42.5+ MB\n"
     ]
    }
   ],
   "source": [
    "#Let´s shortly explore both datasets:\n",
    "df_calendar.info()"
   ]
  },
  {
   "cell_type": "code",
   "execution_count": 5,
   "id": "6a9651bf-19e1-4d12-927a-23daacf67178",
   "metadata": {},
   "outputs": [
    {
     "name": "stdout",
     "output_type": "stream",
     "text": [
      "<class 'pandas.core.frame.DataFrame'>\n",
      "RangeIndex: 3818 entries, 0 to 3817\n",
      "Data columns (total 92 columns):\n",
      " #   Column                            Non-Null Count  Dtype  \n",
      "---  ------                            --------------  -----  \n",
      " 0   id                                3818 non-null   int64  \n",
      " 1   listing_url                       3818 non-null   object \n",
      " 2   scrape_id                         3818 non-null   int64  \n",
      " 3   last_scraped                      3818 non-null   object \n",
      " 4   name                              3818 non-null   object \n",
      " 5   summary                           3641 non-null   object \n",
      " 6   space                             3249 non-null   object \n",
      " 7   description                       3818 non-null   object \n",
      " 8   experiences_offered               3818 non-null   object \n",
      " 9   neighborhood_overview             2786 non-null   object \n",
      " 10  notes                             2212 non-null   object \n",
      " 11  transit                           2884 non-null   object \n",
      " 12  thumbnail_url                     3498 non-null   object \n",
      " 13  medium_url                        3498 non-null   object \n",
      " 14  picture_url                       3818 non-null   object \n",
      " 15  xl_picture_url                    3498 non-null   object \n",
      " 16  host_id                           3818 non-null   int64  \n",
      " 17  host_url                          3818 non-null   object \n",
      " 18  host_name                         3816 non-null   object \n",
      " 19  host_since                        3816 non-null   object \n",
      " 20  host_location                     3810 non-null   object \n",
      " 21  host_about                        2959 non-null   object \n",
      " 22  host_response_time                3295 non-null   object \n",
      " 23  host_response_rate                3295 non-null   object \n",
      " 24  host_acceptance_rate              3045 non-null   object \n",
      " 25  host_is_superhost                 3816 non-null   object \n",
      " 26  host_thumbnail_url                3816 non-null   object \n",
      " 27  host_picture_url                  3816 non-null   object \n",
      " 28  host_neighbourhood                3518 non-null   object \n",
      " 29  host_listings_count               3816 non-null   float64\n",
      " 30  host_total_listings_count         3816 non-null   float64\n",
      " 31  host_verifications                3816 non-null   object \n",
      " 32  host_has_profile_pic              3816 non-null   object \n",
      " 33  host_identity_verified            3816 non-null   object \n",
      " 34  street                            3818 non-null   object \n",
      " 35  neighbourhood                     3402 non-null   object \n",
      " 36  neighbourhood_cleansed            3818 non-null   object \n",
      " 37  neighbourhood_group_cleansed      3818 non-null   object \n",
      " 38  city                              3818 non-null   object \n",
      " 39  state                             3818 non-null   object \n",
      " 40  zipcode                           3811 non-null   object \n",
      " 41  market                            3818 non-null   object \n",
      " 42  smart_location                    3818 non-null   object \n",
      " 43  country_code                      3818 non-null   object \n",
      " 44  country                           3818 non-null   object \n",
      " 45  latitude                          3818 non-null   float64\n",
      " 46  longitude                         3818 non-null   float64\n",
      " 47  is_location_exact                 3818 non-null   object \n",
      " 48  property_type                     3817 non-null   object \n",
      " 49  room_type                         3818 non-null   object \n",
      " 50  accommodates                      3818 non-null   int64  \n",
      " 51  bathrooms                         3802 non-null   float64\n",
      " 52  bedrooms                          3812 non-null   float64\n",
      " 53  beds                              3817 non-null   float64\n",
      " 54  bed_type                          3818 non-null   object \n",
      " 55  amenities                         3818 non-null   object \n",
      " 56  square_feet                       97 non-null     float64\n",
      " 57  price                             3818 non-null   object \n",
      " 58  weekly_price                      2009 non-null   object \n",
      " 59  monthly_price                     1517 non-null   object \n",
      " 60  security_deposit                  1866 non-null   object \n",
      " 61  cleaning_fee                      2788 non-null   object \n",
      " 62  guests_included                   3818 non-null   int64  \n",
      " 63  extra_people                      3818 non-null   object \n",
      " 64  minimum_nights                    3818 non-null   int64  \n",
      " 65  maximum_nights                    3818 non-null   int64  \n",
      " 66  calendar_updated                  3818 non-null   object \n",
      " 67  has_availability                  3818 non-null   object \n",
      " 68  availability_30                   3818 non-null   int64  \n",
      " 69  availability_60                   3818 non-null   int64  \n",
      " 70  availability_90                   3818 non-null   int64  \n",
      " 71  availability_365                  3818 non-null   int64  \n",
      " 72  calendar_last_scraped             3818 non-null   object \n",
      " 73  number_of_reviews                 3818 non-null   int64  \n",
      " 74  first_review                      3191 non-null   object \n",
      " 75  last_review                       3191 non-null   object \n",
      " 76  review_scores_rating              3171 non-null   float64\n",
      " 77  review_scores_accuracy            3160 non-null   float64\n",
      " 78  review_scores_cleanliness         3165 non-null   float64\n",
      " 79  review_scores_checkin             3160 non-null   float64\n",
      " 80  review_scores_communication       3167 non-null   float64\n",
      " 81  review_scores_location            3163 non-null   float64\n",
      " 82  review_scores_value               3162 non-null   float64\n",
      " 83  requires_license                  3818 non-null   object \n",
      " 84  license                           0 non-null      float64\n",
      " 85  jurisdiction_names                3818 non-null   object \n",
      " 86  instant_bookable                  3818 non-null   object \n",
      " 87  cancellation_policy               3818 non-null   object \n",
      " 88  require_guest_profile_picture     3818 non-null   object \n",
      " 89  require_guest_phone_verification  3818 non-null   object \n",
      " 90  calculated_host_listings_count    3818 non-null   int64  \n",
      " 91  reviews_per_month                 3191 non-null   float64\n",
      "dtypes: float64(17), int64(13), object(62)\n",
      "memory usage: 2.7+ MB\n"
     ]
    }
   ],
   "source": [
    "#2nd get information on the dataframe: \n",
    "df_listings.info()"
   ]
  },
  {
   "cell_type": "code",
   "execution_count": 6,
   "id": "d37b6c18-e82c-4749-a77e-2f4c44f8cdfe",
   "metadata": {},
   "outputs": [
    {
     "data": {
      "text/html": [
       "<div>\n",
       "<style scoped>\n",
       "    .dataframe tbody tr th:only-of-type {\n",
       "        vertical-align: middle;\n",
       "    }\n",
       "\n",
       "    .dataframe tbody tr th {\n",
       "        vertical-align: top;\n",
       "    }\n",
       "\n",
       "    .dataframe thead th {\n",
       "        text-align: right;\n",
       "    }\n",
       "</style>\n",
       "<table border=\"1\" class=\"dataframe\">\n",
       "  <thead>\n",
       "    <tr style=\"text-align: right;\">\n",
       "      <th></th>\n",
       "      <th>listing_id</th>\n",
       "      <th>date</th>\n",
       "      <th>available</th>\n",
       "      <th>price</th>\n",
       "      <th>neighbourhood_cleansed</th>\n",
       "    </tr>\n",
       "  </thead>\n",
       "  <tbody>\n",
       "    <tr>\n",
       "      <th>0</th>\n",
       "      <td>241032</td>\n",
       "      <td>2016-01-04</td>\n",
       "      <td>t</td>\n",
       "      <td>$85.00</td>\n",
       "      <td>West Queen Anne</td>\n",
       "    </tr>\n",
       "    <tr>\n",
       "      <th>1</th>\n",
       "      <td>241032</td>\n",
       "      <td>2016-01-05</td>\n",
       "      <td>t</td>\n",
       "      <td>$85.00</td>\n",
       "      <td>West Queen Anne</td>\n",
       "    </tr>\n",
       "    <tr>\n",
       "      <th>2</th>\n",
       "      <td>241032</td>\n",
       "      <td>2016-01-06</td>\n",
       "      <td>f</td>\n",
       "      <td>NaN</td>\n",
       "      <td>West Queen Anne</td>\n",
       "    </tr>\n",
       "    <tr>\n",
       "      <th>3</th>\n",
       "      <td>241032</td>\n",
       "      <td>2016-01-07</td>\n",
       "      <td>f</td>\n",
       "      <td>NaN</td>\n",
       "      <td>West Queen Anne</td>\n",
       "    </tr>\n",
       "    <tr>\n",
       "      <th>4</th>\n",
       "      <td>241032</td>\n",
       "      <td>2016-01-08</td>\n",
       "      <td>f</td>\n",
       "      <td>NaN</td>\n",
       "      <td>West Queen Anne</td>\n",
       "    </tr>\n",
       "  </tbody>\n",
       "</table>\n",
       "</div>"
      ],
      "text/plain": [
       "   listing_id        date available   price neighbourhood_cleansed\n",
       "0      241032  2016-01-04         t  $85.00        West Queen Anne\n",
       "1      241032  2016-01-05         t  $85.00        West Queen Anne\n",
       "2      241032  2016-01-06         f     NaN        West Queen Anne\n",
       "3      241032  2016-01-07         f     NaN        West Queen Anne\n",
       "4      241032  2016-01-08         f     NaN        West Queen Anne"
      ]
     },
     "execution_count": 6,
     "metadata": {},
     "output_type": "execute_result"
    }
   ],
   "source": [
    "#In order to have a dataset that concentrates on the questions we want to answer, we will now merge both datasets.\n",
    "#By doing this, we will create a subset dataframe, that we will use to work from now on: \n",
    "\n",
    "merged_df = pd.merge(df_calendar[['listing_id', 'date', 'available', 'price']], \n",
    "                     df_listings[['id', 'neighbourhood_cleansed']], \n",
    "                     left_on='listing_id', right_on='id', \n",
    "                     how = 'inner')\n",
    "\n",
    "#Drop the second id identifier from df_listings, as we do not need it anymore: \n",
    "merged_df = merged_df.drop(columns=['id'])\n",
    "\n",
    "merged_df.head()"
   ]
  },
  {
   "cell_type": "markdown",
   "id": "735c301f-239b-477f-8155-91b75553fe9a",
   "metadata": {},
   "source": [
    "<h2 id='part1'>Describe & Explore the Data</h2>\n",
    "\n",
    "During this process, we will look into the properties of the data. \n",
    "This will enable us to understand the steps we need to take in the data cleaning phase. "
   ]
  },
  {
   "cell_type": "code",
   "execution_count": 7,
   "id": "43ec4073-8244-441f-944f-7c988d963cde",
   "metadata": {},
   "outputs": [
    {
     "data": {
      "text/plain": [
       "(1393570, 5)"
      ]
     },
     "execution_count": 7,
     "metadata": {},
     "output_type": "execute_result"
    }
   ],
   "source": [
    "#To do so, we will understand the shape of our dataframe\n",
    "merged_df.shape"
   ]
  },
  {
   "cell_type": "code",
   "execution_count": 8,
   "id": "064ad9cd-39d7-42a2-8fff-b22668152cb5",
   "metadata": {},
   "outputs": [
    {
     "data": {
      "text/plain": [
       "listing_id                 int64\n",
       "date                      object\n",
       "available                 object\n",
       "price                     object\n",
       "neighbourhood_cleansed    object\n",
       "dtype: object"
      ]
     },
     "execution_count": 8,
     "metadata": {},
     "output_type": "execute_result"
    }
   ],
   "source": [
    "#Understand the datatypes each variable represent:\n",
    "merged_df.dtypes"
   ]
  },
  {
   "cell_type": "markdown",
   "id": "7c6900b8-2437-41b1-aa8d-caedb334f8f1",
   "metadata": {},
   "source": [
    "Here we already see that we will need to tackle the dtypes of our variables. "
   ]
  },
  {
   "cell_type": "code",
   "execution_count": 9,
   "id": "478df900-bdb9-4f5b-883e-355ef6ccdd0f",
   "metadata": {},
   "outputs": [
    {
     "data": {
      "text/plain": [
       "Index(['listing_id', 'date', 'available', 'price', 'neighbourhood_cleansed'], dtype='object')"
      ]
     },
     "execution_count": 9,
     "metadata": {},
     "output_type": "execute_result"
    }
   ],
   "source": [
    "#Let´s confirm all the necessary columns for our analysis are available: \n",
    "merged_df.columns"
   ]
  },
  {
   "cell_type": "code",
   "execution_count": 10,
   "id": "6b10dd0c-e100-4405-9412-6072313dce68",
   "metadata": {},
   "outputs": [
    {
     "data": {
      "text/plain": [
       "{'available', 'date', 'listing_id', 'neighbourhood_cleansed'}"
      ]
     },
     "execution_count": 10,
     "metadata": {},
     "output_type": "execute_result"
    }
   ],
   "source": [
    "#Provide a set of columns with 0 missing values.\n",
    "no_nulls = set(merged_df.columns[merged_df.isnull().mean()==0])\n",
    "no_nulls"
   ]
  },
  {
   "cell_type": "code",
   "execution_count": 11,
   "id": "9efbb830-209b-457a-b5e8-ba1473e61d43",
   "metadata": {},
   "outputs": [
    {
     "data": {
      "text/plain": [
       "Index(['price'], dtype='object')"
      ]
     },
     "execution_count": 11,
     "metadata": {},
     "output_type": "execute_result"
    }
   ],
   "source": [
    "#Provide the columns with missing values.\n",
    "null_cols = merged_df.columns[merged_df.isnull().any()]\n",
    "null_cols"
   ]
  },
  {
   "cell_type": "markdown",
   "id": "e085c4f1-8795-4961-bb7e-57f21dde039a",
   "metadata": {},
   "source": [
    "In this step of our data exploration, we can see that we will need to handle the missing values for the variable 'price'."
   ]
  },
  {
   "cell_type": "markdown",
   "id": "215be966-43c9-4e41-8c7a-2c50dc054f31",
   "metadata": {},
   "source": [
    "<h1 id='part1'>Section 3: Data Preparation</h1>\n",
    "\n",
    "In the previous section, we identified some cleaning issues that we will now work through, in order to answer our questions.\n",
    "\n",
    "**1. Data Type Cleaning:**"
   ]
  },
  {
   "cell_type": "code",
   "execution_count": 12,
   "id": "256922da-7d9c-47c3-b53d-1c075acc56a4",
   "metadata": {},
   "outputs": [
    {
     "name": "stdout",
     "output_type": "stream",
     "text": [
      "<class 'pandas.core.series.Series'>\n",
      "RangeIndex: 1393570 entries, 0 to 1393569\n",
      "Series name: listing_id\n",
      "Non-Null Count    Dtype \n",
      "--------------    ----- \n",
      "1393570 non-null  object\n",
      "dtypes: object(1)\n",
      "memory usage: 10.6+ MB\n"
     ]
    }
   ],
   "source": [
    "#Clean the dtypes:\n",
    "merged_df['listing_id'] = merged_df['listing_id'].astype('str')\n",
    "merged_df['listing_id'].info()"
   ]
  },
  {
   "cell_type": "code",
   "execution_count": 13,
   "id": "0831995c-9d14-4fb9-867e-4367d378a73c",
   "metadata": {},
   "outputs": [],
   "source": [
    "#Let´s continue with the variable \"date\":\n",
    "merged_df['date'] = pd.to_datetime(merged_df['date'])"
   ]
  },
  {
   "cell_type": "code",
   "execution_count": 14,
   "id": "d535305a-64c1-4f10-bf61-e893f46e3ffd",
   "metadata": {},
   "outputs": [
    {
     "name": "stdout",
     "output_type": "stream",
     "text": [
      "<class 'pandas.core.series.Series'>\n",
      "RangeIndex: 1393570 entries, 0 to 1393569\n",
      "Series name: date\n",
      "Non-Null Count    Dtype         \n",
      "--------------    -----         \n",
      "1393570 non-null  datetime64[ns]\n",
      "dtypes: datetime64[ns](1)\n",
      "memory usage: 10.6 MB\n"
     ]
    }
   ],
   "source": [
    "#Use 'coerce' to handle invalid parsing\n",
    "merged_df['date'] = pd.to_datetime(merged_df['date'], errors='coerce')\n",
    "merged_df['date'].info()"
   ]
  },
  {
   "cell_type": "code",
   "execution_count": 15,
   "id": "f5a1c405-f969-4772-b2bc-7d84d5f6f7e1",
   "metadata": {},
   "outputs": [
    {
     "name": "stdout",
     "output_type": "stream",
     "text": [
      "<class 'pandas.core.series.Series'>\n",
      "RangeIndex: 1393570 entries, 0 to 1393569\n",
      "Series name: available\n",
      "Non-Null Count    Dtype\n",
      "--------------    -----\n",
      "1393570 non-null  bool \n",
      "dtypes: bool(1)\n",
      "memory usage: 1.3 MB\n"
     ]
    }
   ],
   "source": [
    "#The variable 'available' appears to be an object, when we would need it to be a boolean dtype:\n",
    "merged_df['available'] = merged_df['available'].map({'t': True, 'f': False})\n",
    "merged_df['available'].info()"
   ]
  },
  {
   "cell_type": "code",
   "execution_count": 16,
   "id": "6fed59dd-c725-435c-bb54-b040c5202f38",
   "metadata": {},
   "outputs": [],
   "source": [
    "#The varialbe 'price' is an object, when it should be a float. \n",
    "#As I saw when checking on the head of the df, I saw the symbol $.\n",
    "#1st I would need to replace it and then change the dtype:\n",
    "merged_df['price'] = merged_df['price'].str.replace('$', '', regex=False)\n",
    "merged_df['price'] = merged_df['price'].str.replace(',', '', regex=False)\n",
    "\n",
    "merged_df['price'] = merged_df['price'].astype('float')"
   ]
  },
  {
   "cell_type": "code",
   "execution_count": 17,
   "id": "f05d06ec-4429-48e5-97a0-892d3a0f5194",
   "metadata": {},
   "outputs": [
    {
     "name": "stdout",
     "output_type": "stream",
     "text": [
      "<class 'pandas.core.series.Series'>\n",
      "RangeIndex: 1393570 entries, 0 to 1393569\n",
      "Series name: price\n",
      "Non-Null Count   Dtype  \n",
      "--------------   -----  \n",
      "934542 non-null  float64\n",
      "dtypes: float64(1)\n",
      "memory usage: 10.6 MB\n"
     ]
    }
   ],
   "source": [
    "merged_df['price'].info()"
   ]
  },
  {
   "cell_type": "markdown",
   "id": "cf0bcc89-9ae7-41d7-87f1-0f5aa67f607e",
   "metadata": {},
   "source": [
    "**2. Handling Missing Values:**\n",
    "\n",
    "We have seen that every time a property is not available, we do not have a price value for it. \n",
    "\n",
    "This is how we are going to handle the missing values:\n",
    "\n",
    "- We are going to calculate the mean price for each property.\n",
    "- Then, we will impute the missing values using the calculated price. "
   ]
  },
  {
   "cell_type": "code",
   "execution_count": 18,
   "id": "a7b85fa1-dd42-43cd-af35-c31544d04fb8",
   "metadata": {},
   "outputs": [
    {
     "data": {
      "text/plain": [
       "listing_id\n",
       "10000273    182.080925\n",
       "1000883     102.916667\n",
       "10012724     25.000000\n",
       "10015967           NaN\n",
       "10019082    131.696629\n",
       "               ...    \n",
       "9979329     204.260274\n",
       "9994758      86.951220\n",
       "9995551      79.000000\n",
       "9999759     340.983607\n",
       "9999955      55.000000\n",
       "Name: price, Length: 3818, dtype: float64"
      ]
     },
     "execution_count": 18,
     "metadata": {},
     "output_type": "execute_result"
    }
   ],
   "source": [
    "# 1st - calculate the mean price for each property, using the unique identified in listing_id\n",
    "mean_prices = merged_df.groupby('listing_id')['price'].mean()\n",
    "mean_prices"
   ]
  },
  {
   "cell_type": "code",
   "execution_count": 19,
   "id": "81d1d321-1b94-4bca-b6d3-4d58dda70953",
   "metadata": {},
   "outputs": [
    {
     "name": "stdout",
     "output_type": "stream",
     "text": [
      "<class 'pandas.core.frame.DataFrame'>\n",
      "RangeIndex: 1393570 entries, 0 to 1393569\n",
      "Data columns (total 5 columns):\n",
      " #   Column                  Non-Null Count    Dtype         \n",
      "---  ------                  --------------    -----         \n",
      " 0   listing_id              1393570 non-null  object        \n",
      " 1   date                    1393570 non-null  datetime64[ns]\n",
      " 2   available               1393570 non-null  bool          \n",
      " 3   price                   1358895 non-null  float64       \n",
      " 4   neighbourhood_cleansed  1393570 non-null  object        \n",
      "dtypes: bool(1), datetime64[ns](1), float64(1), object(2)\n",
      "memory usage: 43.9+ MB\n"
     ]
    }
   ],
   "source": [
    "#2nd - fill missing values in the price column using the mean prices:\n",
    "merged_df['price'] = merged_df['price'].fillna(merged_df['listing_id'].map(mean_prices))\n",
    "merged_df.info()"
   ]
  },
  {
   "cell_type": "markdown",
   "id": "26f28b5c-810f-401f-b0d0-e97b461d933a",
   "metadata": {},
   "source": [
    "<h1 id='part1'>Section 5: Evaluation</h1>\n",
    "\n",
    "<h2 id='part1'>Question 1: How does the Airbnb availability look by month?</h2>"
   ]
  },
  {
   "cell_type": "code",
   "execution_count": 20,
   "id": "00e05eb4-6441-43bc-b7f6-61c3812423e4",
   "metadata": {},
   "outputs": [
    {
     "data": {
      "text/plain": [
       "month_year\n",
       "2016-01    0.554133\n",
       "2016-02    0.662208\n",
       "2016-03    0.709187\n",
       "2016-04    0.663847\n",
       "2016-05    0.675670\n",
       "2016-06    0.674384\n",
       "2016-07    0.627097\n",
       "2016-08    0.645051\n",
       "2016-09    0.674402\n",
       "2016-10    0.696514\n",
       "2016-11    0.713986\n",
       "2016-12    0.735573\n",
       "2017-01    0.746202\n",
       "Freq: M, Name: available, dtype: float64"
      ]
     },
     "execution_count": 20,
     "metadata": {},
     "output_type": "execute_result"
    }
   ],
   "source": [
    "#In order to answer this question, we will need to follow this steps: \n",
    "\n",
    "#1st - Create a new variable extrancting the month_year:\n",
    "merged_df['month_year'] = merged_df['date'].dt.to_period('M')\n",
    "\n",
    "#2nd - Groupby the month_year:\n",
    "availability_by_month = merged_df.groupby('month_year')['available'].mean()\n",
    "availability_by_month"
   ]
  },
  {
   "cell_type": "code",
   "execution_count": 21,
   "id": "ec9274f8-3a52-4bcd-b707-a3f4cc979326",
   "metadata": {},
   "outputs": [
    {
     "data": {
      "image/png": "[encoded data removed]",
      "text/plain": [
       "<Figure size 640x480 with 1 Axes>"
      ]
     },
     "metadata": {},
     "output_type": "display_data"
    }
   ],
   "source": [
    "#Visualization of the property availability from Jan 2016 - Jan 2017:\n",
    "availability_by_month.plot(title='Montly Availability Distribution');"
   ]
  },
  {
   "cell_type": "markdown",
   "id": "227a9da2-76ef-45eb-b57a-33351a72ce02",
   "metadata": {},
   "source": [
    "<h3 id='part1'>Monthly Availability Distribution:</h3>\n",
    "\n",
    "We can see that during this period, there are two availability peaks: \n",
    "- In March 2016 the availability was slightly over 70%\n",
    "- The next peak starts in November 2016 (71%) until January 2017 (74%)\n",
    "\n",
    "The lowest availability can be registered in the following months: \n",
    "- January 2016 - 55%\n",
    "- July 2016 - 62%\n",
    "\n",
    "I was personally expecting to see a seasonal availability trend: lower availability during the Christmas and sommer months. \n",
    "\n",
    "However this is not the case. So it would be now interesting to look if the number of properties increased since the beginning of 2016."
   ]
  },
  {
   "cell_type": "code",
   "execution_count": 22,
   "id": "d141843b-e06e-44a5-898f-793d614b7167",
   "metadata": {},
   "outputs": [
    {
     "data": {
      "text/plain": [
       "month_year\n",
       "2016-01    106904\n",
       "2016-02    110722\n",
       "2016-03    118358\n",
       "2016-04    114540\n",
       "2016-05    118358\n",
       "2016-06    114540\n",
       "2016-07    118358\n",
       "2016-08    118358\n",
       "2016-09    114540\n",
       "2016-10    118358\n",
       "2016-11    114540\n",
       "2016-12    118358\n",
       "2017-01      7636\n",
       "Freq: M, Name: listing_id, dtype: int64"
      ]
     },
     "execution_count": 22,
     "metadata": {},
     "output_type": "execute_result"
    }
   ],
   "source": [
    "# Count the number of property entries per month \n",
    "properties_month= merged_df.groupby('month_year')['listing_id'].count()\n",
    "properties_month"
   ]
  },
  {
   "cell_type": "code",
   "execution_count": 23,
   "id": "a1b8f9c8-6b1c-49d0-8b59-bbd3d3ee2c49",
   "metadata": {},
   "outputs": [
    {
     "data": {
      "image/png": "[encoded data removed]",
      "text/plain": [
       "<Figure size 640x480 with 1 Axes>"
      ]
     },
     "metadata": {},
     "output_type": "display_data"
    }
   ],
   "source": [
    "properties_month.plot(title='Properties per Month');"
   ]
  },
  {
   "cell_type": "markdown",
   "id": "94c6f87a-5970-4a28-b934-f8f335b6e7eb",
   "metadata": {},
   "source": [
    "<h3 id='part1'>Monthtly Availability Distribution based of count of listing_id per month:</h3>\n",
    "\n",
    "It is interesting to see that the January 2017 data seems not to be complete.\n",
    "Therefore, we will drop this month for a better analysis of our data and be able to answer better our future questions. "
   ]
  },
  {
   "cell_type": "code",
   "execution_count": 24,
   "id": "23b24370-e4ba-4db9-bf9a-92387fdf723a",
   "metadata": {},
   "outputs": [],
   "source": [
    "#Drop Jan 2017 data\n",
    "merged_df = merged_df[merged_df['month_year'] != '2017-01']\n",
    "properties_month_2= merged_df.groupby('month_year')['listing_id'].count()\n",
    "availability_by_month_2 = merged_df.groupby('month_year')['available'].mean()"
   ]
  },
  {
   "cell_type": "code",
   "execution_count": 25,
   "id": "2c5c7f86-60b5-400a-aedd-2341d6674ef0",
   "metadata": {},
   "outputs": [
    {
     "name": "stderr",
     "output_type": "stream",
     "text": [
      "C:\\Users\\MILM004\\AppData\\Local\\Temp\\ipykernel_17884\\2709781395.py:12: UserWarning: set_ticklabels() should only be used with a fixed number of ticks, i.e. after set_ticks() or using a FixedLocator.\n",
      "  ax1.set_xticklabels(x_labels, rotation=45)\n"
     ]
    },
    {
     "data": {
      "image/png": "[encoded data removed]",
      "text/plain": [
       "<Figure size 1000x600 with 2 Axes>"
      ]
     },
     "metadata": {},
     "output_type": "display_data"
    }
   ],
   "source": [
    "# Convert the index to strings for plotting\n",
    "x_labels = properties_month_2.index.strftime('%Y-%m')\n",
    "\n",
    "# Create figure and axis\n",
    "fig, ax1 = plt.subplots(figsize=(10, 6))\n",
    "\n",
    "# Manually plot the bar chart\n",
    "ax1.bar(x_labels, properties_month_2.values, color='b', width=0.4, label='Properties')\n",
    "ax1.set_ylabel('Count of Properties', color='b')\n",
    "ax1.tick_params(axis='y', labelcolor='b')\n",
    "ax1.set_xlabel('Month-Year')\n",
    "ax1.set_xticklabels(x_labels, rotation=45)\n",
    "\n",
    "# Plot the line chart for availability rates\n",
    "ax2 = ax1.twinx()\n",
    "ax2.plot(x_labels, availability_by_month_2.values, color='r', marker='o', linewidth=2, label='Availability Rate')\n",
    "ax2.set_ylabel('Availability Rate', color='r')\n",
    "ax2.tick_params(axis='y', labelcolor='r')\n",
    "\n",
    "# Add a title and legends\n",
    "ax1.set_title('Properties and Availability by Month')\n",
    "lines_1, labels_1 = ax1.get_legend_handles_labels()\n",
    "lines_2, labels_2 = ax2.get_legend_handles_labels()\n",
    "ax1.legend(lines_1 + lines_2, labels_1 + labels_2, loc='upper left')\n",
    "\n",
    "# Adjust layout\n",
    "plt.tight_layout()\n",
    "plt.show()"
   ]
  },
  {
   "cell_type": "markdown",
   "id": "4a61f255-e5a3-4efd-9de8-a01273c4f272",
   "metadata": {},
   "source": [
    "This new visualization with data that is available which is also complete, provides us a much better picture of the current situation\n",
    "\n",
    "The availability increased as the count of listing_ids per month also increased starting from February 2016. "
   ]
  }
 ],
 "metadata": {
  "kernelspec": {
   "display_name": "Python 3 (ipykernel)",
   "language": "python",
   "name": "python3"
  },
  "language_info": {
   "codemirror_mode": {
    "name": "ipython",
    "version": 3
   },
   "file_extension": ".py",
   "mimetype": "text/x-python",
   "name": "python",
   "nbconvert_exporter": "python",
   "pygments_lexer": "ipython3",
   "version": "3.11.7"
  }
 },
 "nbformat": 4,
 "nbformat_minor": 5
}
